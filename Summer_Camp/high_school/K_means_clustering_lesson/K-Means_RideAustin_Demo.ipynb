{
 "cells": [
  {
   "cell_type": "markdown",
   "metadata": {},
   "source": [
    "# Collect Our Tools"
   ]
  },
  {
   "cell_type": "code",
   "execution_count": null,
   "metadata": {
    "collapsed": false
   },
   "outputs": [],
   "source": [
    "import pandas as pd\n",
    "import numpy as np\n",
    "from bokeh.io import output_file, show, output_notebook\n",
    "from bokeh.models import (\n",
    "  GMapPlot, GMapOptions, ColumnDataSource, Circle, DataRange1d, PanTool, WheelZoomTool, BoxSelectTool\n",
    ")\n",
    "from sklearn.cluster import KMeans"
   ]
  },
  {
   "cell_type": "markdown",
   "metadata": {},
   "source": [
    "# Create a function to plot our rides and hotspots"
   ]
  },
  {
   "cell_type": "code",
   "execution_count": null,
   "metadata": {
    "collapsed": false
   },
   "outputs": [],
   "source": [
    "def plot_Austin_hotspots(google_key, ride_requests=None, hotspots=None):\n",
    "    '''\n",
    "    This function is designed to show us our ride requests\n",
    "    \n",
    "    INPUT:\n",
    "    - google_key (string)\n",
    "    - ride_reqeusts (Pandas dataframe)\n",
    "    - hotspots (numpy array)\n",
    "    \n",
    "    OUTPUT:\n",
    "    -Plot of Austin Map\n",
    "    '''\n",
    "    #creating the plot\n",
    "    map_options = GMapOptions(lat=30.29, lng=-97.73, map_type=\"roadmap\", zoom=11)\n",
    "\n",
    "    plot = GMapPlot(\n",
    "        x_range=DataRange1d(), y_range=DataRange1d(), map_options=map_options\n",
    "    )\n",
    "    plot.title.text = \"Austin\"\n",
    "    plot.api_key = google_key\n",
    "    \n",
    "\n",
    "    #try if ride_requests is populated\n",
    "    try:\n",
    "        requests_lats = list(ride_requests['start_location_lat'])\n",
    "        requests_longs = list(ride_requests['start_location_long'])\n",
    "        requests_source = ColumnDataSource( data=dict(\n",
    "            lat=requests_lats,\n",
    "            lon=requests_longs\n",
    "    )\n",
    "    )\n",
    "        requests_dots = Circle(x=\"lon\", y=\"lat\", size=15, fill_color=\"blue\", fill_alpha=0.78, line_color=None)\n",
    "        plot.add_glyph(requests_source, requests_dots)\n",
    "    except:\n",
    "        pass\n",
    "    #creating centroid source and circle\n",
    "    try:\n",
    "        centroidlats = hotspots[:,0]\n",
    "        centroidlongs = hotspots[:,1]\n",
    "        centroid_source = ColumnDataSource(\n",
    "            data=dict(\n",
    "                lat=centroidlats, \n",
    "                lon=centroidlongs\n",
    "            )\n",
    "        )\n",
    "        hotspot_dots = Circle(x=\"lon\", y=\"lat\", size=45, fill_color='red', fill_alpha=.75, line_color=None)\n",
    "        plot.add_glyph(centroid_source, hotspot_dots)\n",
    "    except:\n",
    "        pass\n",
    "    #finishing the plot\n",
    "    plot.add_tools(PanTool(), WheelZoomTool(), BoxSelectTool())\n",
    "    show(plot)"
   ]
  },
  {
   "cell_type": "markdown",
   "metadata": {},
   "source": [
    "# Get API Key from Google"
   ]
  },
  {
   "cell_type": "markdown",
   "metadata": {},
   "source": [
    "Visit this page: https://developers.google.com/maps/documentation/javascript/get-api-key"
   ]
  },
  {
   "cell_type": "markdown",
   "metadata": {},
   "source": [
    "# Download the data"
   ]
  },
  {
   "cell_type": "code",
   "execution_count": null,
   "metadata": {
    "collapsed": true
   },
   "outputs": [],
   "source": [
    "df = pd.read_csv('Independence_Day_Rides.csv')"
   ]
  },
  {
   "cell_type": "code",
   "execution_count": null,
   "metadata": {
    "collapsed": true
   },
   "outputs": [],
   "source": [
    "key = \"placeyourkeyhere\""
   ]
  },
  {
   "cell_type": "code",
   "execution_count": null,
   "metadata": {
    "collapsed": false
   },
   "outputs": [],
   "source": [
    "plot_Austin_hotspots(google_key=key, ride_requests=df)"
   ]
  },
  {
   "cell_type": "code",
   "execution_count": null,
   "metadata": {
    "collapsed": true
   },
   "outputs": [],
   "source": [
    "X = np.array(df[['start_location_lat','start_location_long']])\n",
    "model = KMeans(n_clusters=5)\n",
    "model.fit(X)\n",
    "hotspots = model.cluster_centers_"
   ]
  },
  {
   "cell_type": "code",
   "execution_count": null,
   "metadata": {
    "collapsed": true
   },
   "outputs": [],
   "source": [
    "plot_Austin_hotspots(google_key=key,ride_requests=df,hotspots=hotspots)"
   ]
  },
  {
   "cell_type": "code",
   "execution_count": null,
   "metadata": {
    "collapsed": true
   },
   "outputs": [],
   "source": []
  }
 ],
 "metadata": {
  "kernelspec": {
   "display_name": "Python 3",
   "language": "python",
   "name": "python3"
  },
  "language_info": {
   "codemirror_mode": {
    "name": "ipython",
    "version": 3
   },
   "file_extension": ".py",
   "mimetype": "text/x-python",
   "name": "python",
   "nbconvert_exporter": "python",
   "pygments_lexer": "ipython3",
   "version": "3.6.0"
  }
 },
 "nbformat": 4,
 "nbformat_minor": 2
}
