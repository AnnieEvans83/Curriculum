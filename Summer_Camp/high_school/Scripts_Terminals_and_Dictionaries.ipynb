{
 "cells": [
  {
   "cell_type": "markdown",
   "metadata": {},
   "source": [
    "## 1. Scripts and Terminals"
   ]
  },
  {
   "cell_type": "markdown",
   "metadata": {},
   "source": [
    "Scripts are files we can save our code in to access later, so we don't need to write it down again..."
   ]
  },
  {
   "cell_type": "markdown",
   "metadata": {},
   "source": [
    "To create a script: \n",
    "- __Click__ in the other jupyter tab __Home__ then click __New__ and select __Text File__."
   ]
  },
  {
   "cell_type": "markdown",
   "metadata": {},
   "source": [
    "__Your Turn__:\n",
    "1. Rename your new script file so that it ends in `.py`.\n",
    "1. Inside your script, declare a string variable. Initialize it with a long (and awesome) sentence.\n",
    "1. Print your string variable.\n",
    "1. Save the file using __File__ then __Save__."
   ]
  },
  {
   "cell_type": "markdown",
   "metadata": {},
   "source": [
    "Now that we have our script with a cool sentence inside it, let's run that code.  \n",
    "To do so we:\n",
    "* __Click__ in the other jupyter tab __Home__ then click __New__ and select __Terminal__."
   ]
  },
  {
   "cell_type": "markdown",
   "metadata": {},
   "source": [
    "To run your code inside the __Terminal__, type the following command and press __Enter__ on your keyboard:    \n",
    "```\n",
    "python <your file name>\n",
    "```"
   ]
  },
  {
   "cell_type": "markdown",
   "metadata": {},
   "source": [
    "For example:\n",
    "\n",
    "```\n",
    "python script1.py\n",
    "```"
   ]
  },
  {
   "cell_type": "markdown",
   "metadata": {},
   "source": [
    "## 2. Maps"
   ]
  },
  {
   "cell_type": "markdown",
   "metadata": {},
   "source": [
    "By the way, what we call \"maps\", Python calls \"dictionaries\"."
   ]
  },
  {
   "cell_type": "markdown",
   "metadata": {},
   "source": [
    "A map is a collection of pairs. Each pair is composed of a \"key\" and a \"value\"."
   ]
  },
  {
   "cell_type": "markdown",
   "metadata": {},
   "source": [
    "For example the keys ```[0, 1, 2]```  can be maped to the values ```['Honda Civic', 'Ferrari', 'Mustang']```  \n",
    "as follows:"
   ]
  },
  {
   "cell_type": "code",
   "execution_count": null,
   "metadata": {
    "collapsed": true
   },
   "outputs": [],
   "source": [
    "my_map = {0: 'Honda Civic', 1: 'Ferrari', 2: 'Mustang'}"
   ]
  },
  {
   "cell_type": "markdown",
   "metadata": {},
   "source": [
    "So now we can see, for example, what value is maped to key 1 in a similar way as if we had a list:"
   ]
  },
  {
   "cell_type": "code",
   "execution_count": null,
   "metadata": {
    "collapsed": true
   },
   "outputs": [],
   "source": [
    "my_list = ['Honda Civic', 'Ferrari', 'Mustang']"
   ]
  },
  {
   "cell_type": "markdown",
   "metadata": {},
   "source": [
    "__Exercise__: Inside a script write boths lists: my_map and my_list above.    \n",
    "Print element `1` in `my_list` and element `1` in `my_map`.    \n",
    "Run your script from a terminal to see the prints    "
   ]
  },
  {
   "cell_type": "markdown",
   "metadata": {},
   "source": [
    "Maps/dictionaries can have non-numeric keys, which makes them different than lists."
   ]
  },
  {
   "cell_type": "code",
   "execution_count": null,
   "metadata": {
    "collapsed": true
   },
   "outputs": [],
   "source": [
    "rentals = {\n",
    "    \"Honda Civic\": \"Nice choice, enjoy your Honda Civic\",\n",
    "    \"Ferrari\": \"Great!! It will cost only all your money...\",\n",
    "    \"Mustang\": \"Oh Yeah!! You will have a fun time!!\",\n",
    "    \"Other\": \"Sorry we don't have that. Will just give you something that moves\"    \n",
    "}"
   ]
  },
  {
   "cell_type": "markdown",
   "metadata": {},
   "source": [
    "Now we can see the values of each key in the same way as before:"
   ]
  },
  {
   "cell_type": "code",
   "execution_count": null,
   "metadata": {
    "collapsed": false
   },
   "outputs": [],
   "source": [
    "rentals[\"Honda Civic\"]"
   ]
  },
  {
   "cell_type": "markdown",
   "metadata": {},
   "source": [
    "__Exercise__: Inside a script write the dictionary rentals and print the value of the key \"Ferrari\".  \n",
    "Next, add another key and value to the rentals dictionary and print it.    \n",
    "__Note__: Don't forget you need to run your script in the terminal.  "
   ]
  },
  {
   "cell_type": "markdown",
   "metadata": {
    "collapsed": true
   },
   "source": [
    "__Extra__: Create a car_rental function containing the dinctionary __rentals__ you developed.  \n",
    "Test by making it output the __value__ of the __key__ Ferrari.  \n",
    "How else could you test?  "
   ]
  },
  {
   "cell_type": "markdown",
   "metadata": {},
   "source": [
    "__Unit Tests__: Please read the top part until __Basics__, and then jump to the first example on __Tools__ (the one using pytest): http://python-guide-pt-br.readthedocs.io/en/latest/writing/tests/\n",
    "            "
   ]
  },
  {
   "cell_type": "code",
   "execution_count": null,
   "metadata": {
    "collapsed": true
   },
   "outputs": [],
   "source": []
  }
 ],
 "metadata": {
  "anaconda-cloud": {},
  "kernelspec": {
   "display_name": "Python 3",
   "language": "python",
   "name": "python3"
  },
  "language_info": {
   "codemirror_mode": {
    "name": "ipython",
    "version": 3
   },
   "file_extension": ".py",
   "mimetype": "text/x-python",
   "name": "python",
   "nbconvert_exporter": "python",
   "pygments_lexer": "ipython3",
   "version": "3.6.0"
  }
 },
 "nbformat": 4,
 "nbformat_minor": 1
}
