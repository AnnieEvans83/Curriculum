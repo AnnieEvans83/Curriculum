{
 "cells": [
  {
   "cell_type": "markdown",
   "metadata": {},
   "source": [
    "# Dictionaries"
   ]
  },
  {
   "cell_type": "markdown",
   "metadata": {},
   "source": [
    "We have already seen lists. A list is a container for values, like names. A dictionary is very similar to a list except that instead of containing values it is like a <b>map</b> or a <b>thesaurus</b>. Dictionaries contain more they just a value - they contain pairs of keys and values."
   ]
  },
  {
   "cell_type": "code",
   "execution_count": null,
   "metadata": {
    "collapsed": true
   },
   "outputs": [],
   "source": [
    "names = ['Marcelo', 'Pragna']\n",
    "phone_numbers = {'Marcelo':'123-456-7890', 'Pragna':'112-358-1321'}"
   ]
  },
  {
   "cell_type": "markdown",
   "metadata": {},
   "source": [
    "To review, take 2 minutes with your neighbor to complete the two tasks in code block below. If you don't remember how to do one you may skip it. We'll talk about them together."
   ]
  },
  {
   "cell_type": "code",
   "execution_count": null,
   "metadata": {
    "collapsed": true
   },
   "outputs": [],
   "source": [
    "#Use an index such as names[1] to print the first value in the list\n",
    "print() #change this line!\n",
    "\n",
    "#Use the append function to add the value 'Ben' to the list names\n",
    "#change this line!\n"
   ]
  },
  {
   "cell_type": "markdown",
   "metadata": {},
   "source": [
    "Working with dictionaries is a little different. You want to use a dictionary when you know the <b>key</b> for which you want to access the <b>value</b>. Here are some examples of using a dictionary. Compare the syntax we use for dictionaries to the syntax we use for lists."
   ]
  },
  {
   "cell_type": "code",
   "execution_count": null,
   "metadata": {
    "collapsed": true
   },
   "outputs": [],
   "source": [
    "#Use a key to access the corresponding values\n",
    "print(phone_numbers['Marcelo'])\n",
    "\n",
    "#Add the key-value pair 'Ben':'512-454-7272' to our dictionary\n",
    "phone_numbers['Ben'] = '512-454-7272'\n",
    "\n",
    "#Change Marcelo's phone number\n",
    "phone-numbers['Marcelo'] = '777-777-7777'"
   ]
  },
  {
   "cell_type": "markdown",
   "metadata": {},
   "source": [
    "Notice that when we add Ben's phone number we use the same syntax as when we change Marcelo's phone number. This is because a dictionary can only have one copy of each key! If you try to add a key that already exists, you will overwrite its old value. This can be a good thing, but it is something to be aware of!"
   ]
  },
  {
   "cell_type": "markdown",
   "metadata": {},
   "source": [
    "# Your Turn!"
   ]
  },
  {
   "cell_type": "code",
   "execution_count": null,
   "metadata": {
    "collapsed": true
   },
   "outputs": [],
   "source": [
    "nicknames = {'Marcelo':'Mars', 'Pragna':'Hermione'}\n",
    "birthday_already = {'Pragna':False, 'Ben':'YES!!'}"
   ]
  },
  {
   "cell_type": "markdown",
   "metadata": {},
   "source": [
    "Run the cell above that creates the nicknames and birthday_already dictionaries. Afterwards, complete the cells below."
   ]
  },
  {
   "cell_type": "code",
   "execution_count": null,
   "metadata": {
    "collapsed": true
   },
   "outputs": [],
   "source": [
    "#1. Add a nickname for Ben to the nicknames dictionary. It can be anything you want - but please be kind :)\n",
    "#If you need an example, we have already heard 'Big Ben' and 'Benji' this week.\n",
    "\n",
    "#Add the nickname here!\n",
    "\n",
    "print(nicknames)"
   ]
  },
  {
   "cell_type": "code",
   "execution_count": null,
   "metadata": {
    "collapsed": true
   },
   "outputs": [],
   "source": [
    "#2. Add a Boolean value for Marcelo to the birthday_already dictionary. Take a guess - it's a 50/50\n",
    "\n",
    "\n",
    "#3. Change the value for the key Ben in the birthday_already dictionary. Again, your odds are 50/50 so just guess!\n",
    "\n",
    "\n",
    "\n",
    "print(birthday_already)"
   ]
  },
  {
   "cell_type": "code",
   "execution_count": null,
   "metadata": {
    "collapsed": true
   },
   "outputs": [],
   "source": [
    "#BONUS Practice\n",
    "\n",
    "#4. Make a dictionary called weekend that has keys that are the days of the weekends and values of their abbreviations\n",
    "#   for example, Saturday's abbreviation is Sat\n",
    "\n",
    "\n",
    "#5. Print the value that belongs with the key 'Sunday' in the weekend Dictionary\n",
    "\n",
    "\n",
    "#6. Change the value that belongs with the key 'Sunday' to 'Funday' and then print the dictionary\n"
   ]
  },
  {
   "cell_type": "markdown",
   "metadata": {},
   "source": [
    "# Stop!"
   ]
  },
  {
   "cell_type": "markdown",
   "metadata": {},
   "source": [
    "If you have completed the notebook this far quietly raise your hand and call over an instructor. It is ok if you worked ahead during the lesson - call the other instructor over and they will make sure you are on the right track. After getting instructor approval you may continue with the following exercises."
   ]
  },
  {
   "cell_type": "code",
   "execution_count": null,
   "metadata": {
    "collapsed": true
   },
   "outputs": [],
   "source": [
    "#7. Make a dictionary called numbers that has keys of peoples' names and values of their favorite numbers.\n",
    "#   Your dictionary should have at least two people in it\n",
    "#   HINT: These values should not be strings so they should not have quotes"
   ]
  },
  {
   "cell_type": "code",
   "execution_count": null,
   "metadata": {
    "collapsed": true
   },
   "outputs": [],
   "source": [
    "#8. Print the sum of two peoples' favorite numbers by accessing them in your dictionary"
   ]
  },
  {
   "cell_type": "code",
   "execution_count": null,
   "metadata": {
    "collapsed": true
   },
   "outputs": [],
   "source": [
    "#9. Add two more key-value pairs to the hello_world dictionary. The values are greeting messages.\n",
    "#   You may add them using the syntax we learned to add a key-value pair, or just by changing hello_world directly\n",
    "hello_world = {'Alex': 'Hello',\n",
    "               'Nichole': 'Hi friend',\n",
    "               'Reed': 'Yo'}\n"
   ]
  },
  {
   "cell_type": "code",
   "execution_count": null,
   "metadata": {
    "collapsed": true
   },
   "outputs": [],
   "source": [
    "#10. Write an input statement that allows the user to enter a name. Then, print the greeting for the name they entered.\n",
    "#    Example: if the user enters 'Reed', the code should print 'Yo, Reed'.\n"
   ]
  },
  {
   "cell_type": "markdown",
   "metadata": {},
   "source": [
    "Notice that we have a program that does different things for different inputs but we did not use an if/else block!\n",
    "This is critical for our lab today."
   ]
  },
  {
   "cell_type": "code",
   "execution_count": null,
   "metadata": {
    "collapsed": true
   },
   "outputs": [],
   "source": [
    "#11. Using the dictionary functions, call the print function on the string 'Hello, World!'\n",
    "functions = {'print', print,\n",
    "             'length', len,\n",
    "             'sum', sum}\n",
    "\n",
    "#Here are two examples of how to use this dictionary\n",
    "letters = ['a', 'b', 'c']\n",
    "print( functions['length'](letters) )\n",
    "\n",
    "numbers = [1, 2, 3]\n",
    "print( functions['sum'](numbers) )\n",
    "\n",
    "#HINT: You do not need to type a print statement for your function call because you are calling the print function!"
   ]
  },
  {
   "cell_type": "code",
   "execution_count": null,
   "metadata": {
    "collapsed": true
   },
   "outputs": [],
   "source": [
    "#Bonus challenge\n",
    "#12. Write a for loop that prints every person and their phone number in the phone_numbers dictionary\n",
    "#    HINT 1: If you write a for loop with a dictionary instead of a list, you loop over the keys\n",
    "#    HINT 2: You can combine strings using the '+' operator to print them together"
   ]
  }
 ],
 "metadata": {
  "anaconda-cloud": {},
  "kernelspec": {
   "display_name": "Python 3",
   "language": "python",
   "name": "python3"
  },
  "language_info": {
   "codemirror_mode": {
    "name": "ipython",
    "version": 3
   },
   "file_extension": ".py",
   "mimetype": "text/x-python",
   "name": "python",
   "nbconvert_exporter": "python",
   "pygments_lexer": "ipython3",
   "version": "3.6.0"
  }
 },
 "nbformat": 4,
 "nbformat_minor": 1
}
