{
 "cells": [
  {
   "cell_type": "markdown",
   "metadata": {},
   "source": [
    "## 1. Functions  "
   ]
  },
  {
   "cell_type": "markdown",
   "metadata": {},
   "source": [
    "Do you remember functions in mathematics? Programing languages have functions too!!"
   ]
  },
  {
   "cell_type": "code",
   "execution_count": null,
   "metadata": {
    "collapsed": false
   },
   "outputs": [],
   "source": [
    "# What value are we going to output here?\n",
    "x = 3\n",
    "y = 2*x\n",
    "print(y)"
   ]
  },
  {
   "cell_type": "markdown",
   "metadata": {},
   "source": [
    "Can we create a Python function with that same \"rule\" $y = 2*x$ ? "
   ]
  },
  {
   "cell_type": "code",
   "execution_count": null,
   "metadata": {
    "collapsed": true
   },
   "outputs": [],
   "source": [
    "def my_function(x):\n",
    "    return 2*x       # <-- this is the same as y = 2*x"
   ]
  },
  {
   "cell_type": "code",
   "execution_count": null,
   "metadata": {
    "collapsed": true
   },
   "outputs": [],
   "source": [
    "y = my_function(x)"
   ]
  },
  {
   "cell_type": "markdown",
   "metadata": {},
   "source": [
    "__Your Turn__: Change the code inside the function to implement a different equation.    \n",
    "What should the result be now? How to tested your function thoroughly?."
   ]
  },
  {
   "cell_type": "markdown",
   "metadata": {},
   "source": [
    "__Exercise__: Create in a __new cell__ a __function__ for our car rental options below.   \n",
    "Call and test your function."
   ]
  },
  {
   "cell_type": "code",
   "execution_count": null,
   "metadata": {
    "collapsed": true
   },
   "outputs": [],
   "source": [
    "# What car would you like to rent today?\n",
    "\n",
    "car = input(\"What car would you like to rent? \")\n",
    "\n",
    "if car == \"Honda Civic\":\n",
    "    print(\"Nice choice, enjoy your Honda Civic.\")\n",
    "    \n",
    "elif car == \"Ferrari\":\n",
    "    print(\"Great!! It will cost only all your money...\")\n",
    "    \n",
    "elif car == \"Mustang\":\n",
    "    print(\"Oh Yeah!! You will have a fun time!!\")\n",
    "    \n",
    "else:\n",
    "    print(\"Sorry we don't have that. We'll just give you something that moves.\")"
   ]
  },
  {
   "cell_type": "code",
   "execution_count": null,
   "metadata": {
    "collapsed": true
   },
   "outputs": [],
   "source": [
    "def car_rental():\n",
    "    #your code here\n"
   ]
  },
  {
   "cell_type": "code",
   "execution_count": null,
   "metadata": {
    "collapsed": true
   },
   "outputs": [],
   "source": [
    "# Calling the function \n",
    "car_rental()"
   ]
  },
  {
   "cell_type": "markdown",
   "metadata": {},
   "source": [
    "## 2. While _Loops_"
   ]
  },
  {
   "cell_type": "markdown",
   "metadata": {},
   "source": [
    "While and For loops are pretty similar,  \n",
    "but __While loops__ are monstly used when we don't know exaclty when we would stop our loop"
   ]
  },
  {
   "cell_type": "code",
   "execution_count": null,
   "metadata": {
    "collapsed": false
   },
   "outputs": [],
   "source": [
    "cars = 1\n",
    "while cars < 14: \n",
    "    cars = cars + 1 \n",
    "    print(\"This is the amount of cars we have so far:\", cars)"
   ]
  },
  {
   "cell_type": "markdown",
   "metadata": {},
   "source": [
    "__Your Turn__: Complete the while loop below  \n",
    "Rewrite that code using a for loop instead of a while loop"
   ]
  },
  {
   "cell_type": "code",
   "execution_count": null,
   "metadata": {
    "collapsed": false
   },
   "outputs": [],
   "source": [
    "cars = 30\n",
    "while cars #complete this loop \n",
    "    cars = cars - 1 \n",
    "    print(\"This is the amount of cars we have so far:\", cars)   "
   ]
  },
  {
   "cell_type": "markdown",
   "metadata": {},
   "source": [
    "__Exercise__: Create in a __new cell__ a __function__ that receives amount of cars as inputs and has the While loop you created above inside it   \n"
   ]
  },
  {
   "cell_type": "code",
   "execution_count": null,
   "metadata": {
    "collapsed": true
   },
   "outputs": [],
   "source": [
    "def cars_left():\n",
    "    #your code here"
   ]
  },
  {
   "cell_type": "code",
   "execution_count": null,
   "metadata": {
    "collapsed": true
   },
   "outputs": [],
   "source": [
    "# Calling the function \n",
    "cars = 30\n",
    "cars_left(cars)"
   ]
  }
 ],
 "metadata": {
  "kernelspec": {
   "display_name": "Python 3",
   "language": "python",
   "name": "python3"
  },
  "language_info": {
   "codemirror_mode": {
    "name": "ipython",
    "version": 3
   },
   "file_extension": ".py",
   "mimetype": "text/x-python",
   "name": "python",
   "nbconvert_exporter": "python",
   "pygments_lexer": "ipython3",
   "version": "3.6.0"
  }
 },
 "nbformat": 4,
 "nbformat_minor": 2
}
