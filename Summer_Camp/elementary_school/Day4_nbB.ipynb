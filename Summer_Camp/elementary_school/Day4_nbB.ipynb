{
 "cells": [
  {
   "cell_type": "markdown",
   "metadata": {},
   "source": [
    "# Booleans\n",
    "\n",
    "In the slideshow we just saw, you learned about cascades and image classification. As you learned from the bike-repair team, each process involves checking for an answer to a yes-or-no question. (Such as: does the bike have two wheels?) Checking for whether or not a statement like this is true or false is called **Boolean** logic, and -- you guessed it -- there's a way to use it in Python! \n",
    "\n",
    "In fact, there are two ways. Booleans can be for:\n",
    "- Testing if something is True or False\n",
    "- Assigning a variable as True or False "
   ]
  },
  {
   "cell_type": "code",
   "execution_count": null,
   "metadata": {
    "collapsed": true
   },
   "outputs": [],
   "source": [
    "# Have you had a birthday this year? True or False\n",
    "birthday_this_year = ?\n",
    "\n",
    "# In which year you were born?\n",
    "birthyear = ?\n",
    "current_year = ?\n",
    "\n",
    "# Age calculation:\n",
    "age = current_year - birthyear\n",
    "if birthday_this_year == False:\n",
    "    age = age - 1\n",
    "\n",
    "print(\"You are {} years old!\".format(age))"
   ]
  },
  {
   "cell_type": "markdown",
   "metadata": {},
   "source": [
    "Note that in the code above we used booleans in both ways:\n",
    "- We assigned True or False to the variable birthday_this_year.\n",
    "- We tested if birthday_this_year == Fase was True.\n",
    "\n",
    "**Your Turn:** Create an if-else statement that uses True or False (anything you want)."
   ]
  },
  {
   "cell_type": "code",
   "execution_count": null,
   "metadata": {
    "collapsed": true
   },
   "outputs": [],
   "source": [
    "# Write your code here!\n"
   ]
  }
 ],
 "metadata": {
  "kernelspec": {
   "display_name": "Python 3",
   "language": "python",
   "name": "python3"
  },
  "language_info": {
   "codemirror_mode": {
    "name": "ipython",
    "version": 3
   },
   "file_extension": ".py",
   "mimetype": "text/x-python",
   "name": "python",
   "nbconvert_exporter": "python",
   "pygments_lexer": "ipython3",
   "version": "3.6.0"
  }
 },
 "nbformat": 4,
 "nbformat_minor": 2
}
