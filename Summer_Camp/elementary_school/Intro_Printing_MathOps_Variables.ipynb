{
 "cells": [
  {
   "cell_type": "markdown",
   "metadata": {},
   "source": [
    "# Planet Jupyter (Yes, we spelled that right -- in this case.)\n",
    "\n",
    "## 1. Introduction\n",
    "\n",
    "For our Python lessons this week, we're going to use notebooks like this one in a computer program called Jupyter. Jupyter is really cool because it lets us run Python code and write notes all in the same place! When we start using the cars in a few minutes, we'll use Jupyter notebooks with code that the cars understand. "
   ]
  },
  {
   "cell_type": "markdown",
   "metadata": {},
   "source": [
    "To run a cell of Python code in Jupyter, first type your code in a blank cell. Then, hold Shift and press Enter. Try it with the command below, and you'll see the results of your code right below the cell! (If you want, you can also run your code by clicking the button to the right of the down arrow under Insert at the top."
   ]
  },
  {
   "cell_type": "code",
   "execution_count": 2,
   "metadata": {
    "collapsed": false
   },
   "outputs": [],
   "source": [
    "# Add 23 and 6. \n",
    "print(23 + 6) "
   ]
  },
  {
   "cell_type": "markdown",
   "metadata": {},
   "source": [
    "**Comments:** the line above 23 + 6 is a comment. Python ignores anything that comes after the # sign. Comments are used to add notes, directions, and other ideas from the person writing the notebook. \n",
    "\n",
    "**Team Practice:** What should we write for a comment in the cell below?"
   ]
  },
  {
   "cell_type": "code",
   "execution_count": null,
   "metadata": {
    "collapsed": true
   },
   "outputs": [],
   "source": [
    "\n",
    "print(14 + 8 + 23)"
   ]
  },
  {
   "cell_type": "markdown",
   "metadata": {},
   "source": [
    "**Try it!** Write a subtraction problem, and include a **comment** at the top of the cell to explain it. Don't forget to **print** your result! "
   ]
  },
  {
   "cell_type": "code",
   "execution_count": null,
   "metadata": {
    "collapsed": true
   },
   "outputs": [],
   "source": [
    "\n"
   ]
  },
  {
   "cell_type": "markdown",
   "metadata": {},
   "source": [
    "**Errors:** Once in a while, especially when we're first learning to code, we accidentally try to run code that doesn't quite follow all of Python's rules. When this happens, Python returns an **error message** to indicate that something's not right. The error message offers some explanation about what's wrong, too. \n",
    "\n",
    "Follow the **comments** in the cells below to see how this happens. "
   ]
  },
  {
   "cell_type": "code",
   "execution_count": 4,
   "metadata": {
    "collapsed": false
   },
   "outputs": [],
   "source": [
    "# Things go fine when we run the code here ...\n",
    "print(4 + 7)"
   ]
  },
  {
   "cell_type": "code",
   "execution_count": 6,
   "metadata": {
    "collapsed": false
   },
   "outputs": [],
   "source": [
    "# ... but not here. \n",
    "print(12 + )"
   ]
  },
  {
   "cell_type": "markdown",
   "metadata": {},
   "source": [
    "**One Final Note: Adding and Deleting Cells**\n",
    "\n",
    "If you every want to add another cell in Jupyter, press the letter 'b' while the box around an existing cell is blue. You'll get a new cell right below it. To delete a cell, tap 'd' twice while the box around the cell you want to delete is blue."
   ]
  },
  {
   "cell_type": "markdown",
   "metadata": {},
   "source": [
    "## 2. Printing\n",
    "\n",
    "Often when we code, we are interested in checking a result. To do so, we use the **print()** function. (We will learn about other built-in functions later.) The print() function's job is to output whatever we place inside the parentheses. Let's learn more here: https://www.youtube.com/watch?v=Y8_f9GV9Xk4. "
   ]
  },
  {
   "cell_type": "code",
   "execution_count": null,
   "metadata": {
    "collapsed": true
   },
   "outputs": [],
   "source": [
    "# Try to print the biggest number out there! \n"
   ]
  },
  {
   "cell_type": "markdown",
   "metadata": {},
   "source": [
    "But we don't just have to print numbers; we can also print letters, words, and sentences. More from Joyce: https://www.youtube.com/watch?v=ES5MOiYAjQE"
   ]
  },
  {
   "cell_type": "code",
   "execution_count": null,
   "metadata": {
    "collapsed": true
   },
   "outputs": [],
   "source": [
    "# Print a cooler sentence here. Make sure your sentence is at least six words long. \n"
   ]
  },
  {
   "cell_type": "markdown",
   "metadata": {},
   "source": [
    "Last, we don't have to print just one thing at a time. If we separate inputs with a comma, we can print multiple things at once: https://www.youtube.com/watch?v=8yIgFgbmNxw. "
   ]
  },
  {
   "cell_type": "code",
   "execution_count": 8,
   "metadata": {
    "collapsed": false
   },
   "outputs": [],
   "source": [
    "# Print two different things together: one should be made up of words/letters, and the other of numbers.\n"
   ]
  },
  {
   "cell_type": "markdown",
   "metadata": {},
   "source": [
    "Group Questions:\n",
    "- What would be the output from print(\"Two plus three is: \", 2 + 6)?\n",
    "- Find the error here: print(How can we be sure this will work?\") "
   ]
  },
  {
   "cell_type": "markdown",
   "metadata": {},
   "source": [
    "## 3. Math \n",
    "\n",
    "Python can perform the math problems you know and love from school. To start, we can perform addition and subtraction in the same way those problems also ways look. "
   ]
  },
  {
   "cell_type": "code",
   "execution_count": 2,
   "metadata": {
    "collapsed": false
   },
   "outputs": [],
   "source": [
    "# How to add 13 and 7 (and print the result)\n",
    "print(13 + 7)"
   ]
  },
  {
   "cell_type": "markdown",
   "metadata": {},
   "source": [
    "**Team Practice:** Suppose we want to subtract 11 from 100. What should we type? Don't forget to write a comment at the beginning explaining what we're up to! "
   ]
  },
  {
   "cell_type": "code",
   "execution_count": 11,
   "metadata": {
    "collapsed": false
   },
   "outputs": [],
   "source": [
    "\n"
   ]
  },
  {
   "cell_type": "markdown",
   "metadata": {},
   "source": [
    "In the same way that we can print multiple things at once, we can also complete multiple math tasks at once. Check it out. "
   ]
  },
  {
   "cell_type": "code",
   "execution_count": 14,
   "metadata": {
    "collapsed": false
   },
   "outputs": [],
   "source": [
    "# How to add 31, 177, and 2\n",
    "print(31 + 177 + 2)"
   ]
  },
  {
   "cell_type": "code",
   "execution_count": 10,
   "metadata": {
    "collapsed": false
   },
   "outputs": [],
   "source": [
    "# How to do 52 minus 9 plus 16\n",
    "print(52 - 9 + 16)"
   ]
  },
  {
   "cell_type": "markdown",
   "metadata": {},
   "source": [
    "**More Practice:** What if we wanted to add 72 and 44, then subtract 8, and then add 21?"
   ]
  },
  {
   "cell_type": "code",
   "execution_count": 17,
   "metadata": {
    "collapsed": false
   },
   "outputs": [],
   "source": [
    "\n"
   ]
  },
  {
   "cell_type": "markdown",
   "metadata": {},
   "source": [
    "**Your Turn:** Add two more cells below. Then use the three blank cells to complete the following exercises. Make sure to use comments to explain what you're doing, and print your results.\n",
    "\n",
    "1. Subtract 10 from 55.\n",
    "2. Add 71 and 143, then subtract 14. Do this all in one line of code.\n",
    "3. Write a math expression using addition/subtraction with 5 different numbers. Again, do this all in one line."
   ]
  },
  {
   "cell_type": "code",
   "execution_count": null,
   "metadata": {
    "collapsed": true
   },
   "outputs": [],
   "source": []
  },
  {
   "cell_type": "markdown",
   "metadata": {},
   "source": [
    "## 4. Libraries with Built-in Functions\n",
    "\n",
    "As we heard earlier, print is a **built-in function**, which means it's ready to use when we open Python. We don't have to install the print() function before using it. There are other functions, though, that come in groups called **libraries**. To use these, we need to install the library first. Let's take a quick look at an example. Run the code in the cell below. "
   ]
  },
  {
   "cell_type": "code",
   "execution_count": 21,
   "metadata": {
    "collapsed": true
   },
   "outputs": [],
   "source": [
    "import numpy"
   ]
  },
  {
   "cell_type": "markdown",
   "metadata": {},
   "source": [
    "You just imported your first Python library! Once you've imported a library, you can use any of its functions by typing the library name and the function joined with a period. \n",
    "\n",
    "This particular library is called numpy (from \"numbers\" and \"Python\"). It's used for doing calculations with various kinds of numbers. For example, a maximum is the highest number in a group. We can use the maximum function in numpy to find the highest of 2 numbers by typing numpy.maximum() and putting the numbers we want to check inside the parenthesis."
   ]
  },
  {
   "cell_type": "code",
   "execution_count": 30,
   "metadata": {
    "collapsed": false
   },
   "outputs": [],
   "source": [
    "# How to find a maximum of 4 and 11 using the numpy library.\n",
    "print(numpy.maximum(3, 4))"
   ]
  },
  {
   "cell_type": "code",
   "execution_count": 32,
   "metadata": {
    "collapsed": false
   },
   "outputs": [],
   "source": [
    "# How to find a maximum of 10 and 33 using the numpy library. \n",
    "print(numpy.maximum(10, 17))"
   ]
  },
  {
   "cell_type": "markdown",
   "metadata": {},
   "source": [
    "**Your Turn:** Choose two different numbers. Then use the numpy.maximum command to show the highest one in the cell below. "
   ]
  },
  {
   "cell_type": "code",
   "execution_count": null,
   "metadata": {
    "collapsed": true
   },
   "outputs": [],
   "source": []
  },
  {
   "cell_type": "markdown",
   "metadata": {},
   "source": [
    " "
   ]
  },
  {
   "cell_type": "markdown",
   "metadata": {},
   "source": [
    "# Variables\n",
    "\n",
    "A **variable** stores information so we can use or access it later. Variables are helpful if we have to use a number more than once. For example, say we wanted to use the number 3,109,140 many times in Python. Instead of typing out that number every time, we could set it equal to a variable and then just type that variable.\n",
    "\n",
    "a = 3,109,140\n",
    "\n",
    "That step tells Python that 'a' represents 3,109,140. Now, we can just type 'a' whenever we want to use that number. This also prevents us from typing out the number incorrectly and making a mistake! \n",
    "\n",
    "The variable also acts like an object, which means we can put it into the functions we just learned about. And we can use letters or words for variables."
   ]
  },
  {
   "cell_type": "code",
   "execution_count": null,
   "metadata": {
    "collapsed": true
   },
   "outputs": [],
   "source": [
    "# Let's use the word \"tree\" as a variable for the number 12.\n",
    "tree = 12"
   ]
  },
  {
   "cell_type": "code",
   "execution_count": null,
   "metadata": {
    "collapsed": true
   },
   "outputs": [],
   "source": [
    "# Now we can do all sorts of things with that variable.\n",
    "\n",
    "# We can print it:\n",
    "print(tree)"
   ]
  },
  {
   "cell_type": "code",
   "execution_count": null,
   "metadata": {
    "collapsed": true
   },
   "outputs": [],
   "source": [
    "# We can change it to a different number:\n",
    "tree = 14"
   ]
  },
  {
   "cell_type": "code",
   "execution_count": null,
   "metadata": {
    "collapsed": true
   },
   "outputs": [],
   "source": [
    "# We can set it back to 12 while also adding a new variable.\n",
    "tree = 12\n",
    "leaf = 9"
   ]
  },
  {
   "cell_type": "code",
   "execution_count": null,
   "metadata": {
    "collapsed": true
   },
   "outputs": [],
   "source": [
    "# Since \"tree\" represents a number, we can even use it in math operations:\n",
    "print(tree - 3)"
   ]
  },
  {
   "cell_type": "markdown",
   "metadata": {},
   "source": [
    "But variables don't always have to be numbers. We can also set variables equal to words or phrases, too."
   ]
  },
  {
   "cell_type": "code",
   "execution_count": 10,
   "metadata": {
    "collapsed": false
   },
   "outputs": [],
   "source": [
    "name = \"Lionel Messi\"\n",
    "print(name)"
   ]
  },
  {
   "cell_type": "code",
   "execution_count": 13,
   "metadata": {
    "collapsed": false
   },
   "outputs": [],
   "source": [
    "print(\"My favorite soccer player is \" + name + \".\")"
   ]
  },
  {
   "cell_type": "markdown",
   "metadata": {},
   "source": [
    "**Strings vs. Integers:** Notice that we put quotation marks around the objects stored in variables for the last two cells. We need to do this because Python understands words and phrases as **strings**, and using quotation marks tells Python that's what we want to use. \n",
    "\n",
    "On the other hand, numbers get stored as **integers**. So if we use a number with no quotation marks, Python understands it as a regular number that we'll use for math operations. As you learn more about Python, you'll find that there are certain things you can and can't do with integers and with strings. "
   ]
  },
  {
   "cell_type": "code",
   "execution_count": 13,
   "metadata": {
    "collapsed": false
   },
   "outputs": [],
   "source": [
    "# Try printing the word banana without using quotation marks. What happens?\n"
   ]
  },
  {
   "cell_type": "code",
   "execution_count": null,
   "metadata": {
    "collapsed": true
   },
   "outputs": [],
   "source": [
    "# Now let's make \"banana\" a variable that stores a number. \n",
    "\n",
    "\n",
    "#What will happen now when we try printing it with and without quotation marks?\n"
   ]
  },
  {
   "cell_type": "markdown",
   "metadata": {},
   "source": [
    "**Your Turn:** Complete the steps below using the information you just learned about Python. The questions are written in green below, and you can type your code in the same box below each question. Remember to **print** your results when appropriate!"
   ]
  },
  {
   "cell_type": "code",
   "execution_count": null,
   "metadata": {
    "collapsed": true
   },
   "outputs": [],
   "source": [
    "# Set c = 2345 and d = 895. Then find c + d. You can write all this code in one cell. \n",
    "\n",
    "\n",
    "\n"
   ]
  },
  {
   "cell_type": "code",
   "execution_count": 40,
   "metadata": {
    "collapsed": false
   },
   "outputs": [],
   "source": [
    "# Create a short sentence about a food, and then set it equal to the variable \"eat\".\n"
   ]
  },
  {
   "cell_type": "code",
   "execution_count": 42,
   "metadata": {
    "collapsed": true
   },
   "outputs": [],
   "source": [
    "# Print the variable. \n"
   ]
  },
  {
   "cell_type": "code",
   "execution_count": 43,
   "metadata": {
    "collapsed": false
   },
   "outputs": [],
   "source": [
    "# Challenge step 1: create a variable that is the first part of your own math problem, like \"Ten minus three equals \". \n"
   ]
  },
  {
   "cell_type": "code",
   "execution_count": null,
   "metadata": {
    "collapsed": true
   },
   "outputs": [],
   "source": [
    "# Challenge step 2: create a second variable that is the answer to your math problem in the cell above. \n"
   ]
  },
  {
   "cell_type": "code",
   "execution_count": null,
   "metadata": {
    "collapsed": true
   },
   "outputs": [],
   "source": [
    "# Challenge step 3: print both variables together to make a complete sentence for your math problem! \n"
   ]
  }
 ],
 "metadata": {
  "kernelspec": {
   "display_name": "Python 3",
   "language": "python",
   "name": "python3"
  },
  "language_info": {
   "codemirror_mode": {
    "name": "ipython",
    "version": 3
   },
   "file_extension": ".py",
   "mimetype": "text/x-python",
   "name": "python",
   "nbconvert_exporter": "python",
   "pygments_lexer": "ipython3",
   "version": "3.6.0"
  }
 },
 "nbformat": 4,
 "nbformat_minor": 2
}
