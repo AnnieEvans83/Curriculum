{
 "cells": [
  {
   "cell_type": "code",
   "execution_count": 2,
   "metadata": {
    "collapsed": false
   },
   "outputs": [],
   "source": [
    "\"\"\"\n",
    "Bar Plots!\n",
    "\n",
    "\"\"\"\n",
    "\n",
    "# 1. Make 2 lists, one that shows 3 activities you do every week, and another that shows how many hours you spend on \n",
    "# each activity. The activities can be playing with friends, eating, or anything else. Make sure your activities and \n",
    "# hours are in matching order! \n",
    "activities = []\n",
    "hours = []"
   ]
  },
  {
   "cell_type": "code",
   "execution_count": null,
   "metadata": {
    "collapsed": true
   },
   "outputs": [],
   "source": [
    "# 2. Complete the code below to make a bar plot! \n",
    "%matplotlib inline \n",
    "\n",
    "# Import the seaborn library.\n",
    "\n",
    "\n",
    "# Use the .barplot() function\n"
   ]
  }
 ],
 "metadata": {
  "kernelspec": {
   "display_name": "Python 3",
   "language": "python",
   "name": "python3"
  },
  "language_info": {
   "codemirror_mode": {
    "name": "ipython",
    "version": 3
   },
   "file_extension": ".py",
   "mimetype": "text/x-python",
   "name": "python",
   "nbconvert_exporter": "python",
   "pygments_lexer": "ipython3",
   "version": "3.6.0"
  }
 },
 "nbformat": 4,
 "nbformat_minor": 2
}
