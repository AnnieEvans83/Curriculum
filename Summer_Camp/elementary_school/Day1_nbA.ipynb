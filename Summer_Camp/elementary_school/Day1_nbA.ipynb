{
 "cells": [
  {
   "cell_type": "markdown",
   "metadata": {},
   "source": [
    "# Planet Jupyter (Yes, we spelled that right -- in this case.)\n",
    "\n",
    "## 1. Introduction\n",
    "\n",
    "For our Python lessons this week, we're going to use notebooks like this one in a computer program called Jupyter. Jupyter is really cool because it lets us run Python code and write notes all in the same place! When we start using the cars in a few minutes, we'll use Jupyter notebooks with code that the cars understand. "
   ]
  },
  {
   "cell_type": "markdown",
   "metadata": {},
   "source": [
    "To run a Python command in Jupyter, just type your code in a blank cell. Then, hold Shift and press Enter. Try it with the command below, and you'll see the results of your code right below the cell! (If you want, you can also run your code by clicking the button to the right of the down arrow under Insert at the top."
   ]
  },
  {
   "cell_type": "code",
   "execution_count": 2,
   "metadata": {
    "collapsed": false
   },
   "outputs": [],
   "source": [
    "#Add 23 and 6. \n",
    "23 + 6"
   ]
  },
  {
   "cell_type": "markdown",
   "metadata": {},
   "source": [
    "**Special note:** the line above 23 + 6 is a comment. Python ignores anything that comes after the # sign. "
   ]
  },
  {
   "cell_type": "markdown",
   "metadata": {},
   "source": [
    "## Your Turn"
   ]
  },
  {
   "cell_type": "markdown",
   "metadata": {},
   "source": [
    "In the cells below, you have some exercises with directions that appear as comments. See how much you can do!"
   ]
  },
  {
   "cell_type": "code",
   "execution_count": null,
   "metadata": {
    "collapsed": true
   },
   "outputs": [],
   "source": [
    "#Subtract 10 from 55.\n"
   ]
  },
  {
   "cell_type": "code",
   "execution_count": null,
   "metadata": {
    "collapsed": true
   },
   "outputs": [],
   "source": [
    "#Add 71 and 143, then subtract 14. Do this all in one line of code.\n"
   ]
  },
  {
   "cell_type": "code",
   "execution_count": null,
   "metadata": {
    "collapsed": true
   },
   "outputs": [],
   "source": [
    "#Try to write a math expression using addition/subtraction with 5 different numbers. Again, do this all in one line.\n"
   ]
  },
  {
   "cell_type": "markdown",
   "metadata": {},
   "source": [
    "## 2. Functions"
   ]
  },
  {
   "cell_type": "markdown",
   "metadata": {},
   "source": [
    "Python isn't just about numbers; it can also produce letters, words, and sentences as results. We do this by using a particular function, the print function. To use it, simply type print(\"\") with whatever text you want to show inside the parenthesis. Check out the example below."
   ]
  },
  {
   "cell_type": "code",
   "execution_count": 8,
   "metadata": {
    "collapsed": false
   },
   "outputs": [],
   "source": [
    "#how to print the word apple\n",
    "print(\"apple\")"
   ]
  },
  {
   "cell_type": "markdown",
   "metadata": {},
   "source": [
    "You can also print phrases and full sentences."
   ]
  },
  {
   "cell_type": "code",
   "execution_count": 9,
   "metadata": {
    "collapsed": false
   },
   "outputs": [],
   "source": [
    "#how to print Hello World!\n",
    "print(\"Hello World!\")"
   ]
  },
  {
   "cell_type": "markdown",
   "metadata": {},
   "source": [
    "Your Turn: use the open cell below to print the sentence below. \n",
    "    \n",
    "My car is faster than yours is."
   ]
  },
  {
   "cell_type": "code",
   "execution_count": null,
   "metadata": {
    "collapsed": true
   },
   "outputs": [],
   "source": []
  },
  {
   "cell_type": "markdown",
   "metadata": {
    "collapsed": true
   },
   "source": [
    "The **print** function is just one example of many, many functions that exist in Python. Functions work kind of like machines that take what you put inside the parenthesis, which is called an **object**. The function machines then do a particular thing (like printing) with the object you give them. \n",
    "\n",
    "Here's another example of a function. Imagine that we want to know how many total **characters** (letters, numbers, spaces, and symbols) in an object. We can use the **length** function, len(). Python will tell us the length of whatever we put inside the parenthesis.\n",
    "\n",
    "Let's say our object is a full sentence, like \"The quick red fox jumps over the lazy brown dog.\" All we need to do is use len(), which is the length command, and then put our object inside the parenthesis. Check it out! \n",
    "\n",
    "Final Note: we have to put the sentence in quotation marks because it is a set of words. We don't have to do that if our object is made up of numbers. "
   ]
  },
  {
   "cell_type": "code",
   "execution_count": 10,
   "metadata": {
    "collapsed": false
   },
   "outputs": [],
   "source": [
    "len(\"The quick red fox jumps over the lazy brown dog.\")"
   ]
  },
  {
   "cell_type": "markdown",
   "metadata": {},
   "source": [
    "Your turn: find the lengths of the different objects given in each cell below. Remember that \"length\" includes numbers, letters, spaces and symbols! "
   ]
  },
  {
   "cell_type": "code",
   "execution_count": null,
   "metadata": {
    "collapsed": true
   },
   "outputs": [],
   "source": [
    "#How long is the word \"cucumber\"?\n"
   ]
  },
  {
   "cell_type": "code",
   "execution_count": null,
   "metadata": {
    "collapsed": true
   },
   "outputs": [],
   "source": [
    "#How long is the sentence \"My cat's breath smells like cat food.\"?\n"
   ]
  },
  {
   "cell_type": "code",
   "execution_count": 12,
   "metadata": {
    "collapsed": false
   },
   "outputs": [],
   "source": [
    "#Challenge question: use len() and a math operation to find the total length of the words \"float\" and \"butterfly\"?\n"
   ]
  },
  {
   "cell_type": "markdown",
   "metadata": {},
   "source": [
    "Snap review:\n",
    "\n",
    "- What is an object in Python?\n",
    "- What is a character?\n",
    "- What is a function?"
   ]
  },
  {
   "cell_type": "markdown",
   "metadata": {},
   "source": [
    "## 3. Variables\n",
    "\n",
    "A **variable** stores information so we can use or access it later. Variables are helpful if we have to use a number more than once. For example, say we wanted to use the number 3,109,140 many times in Python. Instead of typing out that number every time, we could set it equal to a variable and then just type that variable.\n",
    "\n",
    "a = 3,109,140\n",
    "\n",
    "That step tells Python that 'a' represents 3,109,140. Now, we can just type 'a' whenever we want to use that number. This also prevents us from typing out the number incorrectly and making a mistake! \n",
    "\n",
    "The variable also acts like an object, which means we can put it into the functions we just learned about. And we can use letters or words for variables."
   ]
  },
  {
   "cell_type": "code",
   "execution_count": 13,
   "metadata": {
    "collapsed": true
   },
   "outputs": [],
   "source": [
    "#Let's use the word \"tree\" as a variable for the number 12.\n",
    "tree = 12"
   ]
  },
  {
   "cell_type": "code",
   "execution_count": 15,
   "metadata": {
    "collapsed": false
   },
   "outputs": [],
   "source": [
    "#Now we can do all sorts of things with that variable.\n",
    "\n",
    "#We can find its length:\n",
    "len(tree)"
   ]
  },
  {
   "cell_type": "code",
   "execution_count": 17,
   "metadata": {
    "collapsed": false
   },
   "outputs": [],
   "source": [
    "#We can print it:\n",
    "print(tree)"
   ]
  },
  {
   "cell_type": "code",
   "execution_count": 19,
   "metadata": {
    "collapsed": false
   },
   "outputs": [],
   "source": [
    "#Since \"tree\" represents a number, we can even use it in math operations:\n",
    "tree - 3"
   ]
  },
  {
   "cell_type": "markdown",
   "metadata": {},
   "source": [
    "## Your Turn \n",
    "Try answering the questions below using the information you just learned about Python. The questions are written in green below, and you can type your code in the same box below each question. "
   ]
  },
  {
   "cell_type": "code",
   "execution_count": null,
   "metadata": {
    "collapsed": true
   },
   "outputs": [],
   "source": [
    "#Set c = 2345 and d = 2395. Find c + d. \n",
    "\n",
    "\n",
    "\n",
    "\n"
   ]
  },
  {
   "cell_type": "code",
   "execution_count": null,
   "metadata": {
    "collapsed": true
   },
   "outputs": [],
   "source": [
    "#Create a short sentence, and then set it equal a variable that you choose. \n",
    "\n",
    "\n",
    "\n",
    "#Find the length of that sentence using the variable you ceate.\n",
    "\n",
    "\n",
    "\n",
    "#Add 2 to that length. \n",
    "\n"
   ]
  }
 ],
 "metadata": {
  "kernelspec": {
   "display_name": "Python 3",
   "language": "python",
   "name": "python3"
  },
  "language_info": {
   "codemirror_mode": {
    "name": "ipython",
    "version": 3
   },
   "file_extension": ".py",
   "mimetype": "text/x-python",
   "name": "python",
   "nbconvert_exporter": "python",
   "pygments_lexer": "ipython3",
   "version": "3.6.0"
  }
 },
 "nbformat": 4,
 "nbformat_minor": 2
}
