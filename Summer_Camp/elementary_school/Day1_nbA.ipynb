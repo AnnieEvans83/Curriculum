{
 "cells": [
  {
   "cell_type": "markdown",
   "metadata": {},
   "source": [
    "# Planet Jupyter (Yes, we spelled that right -- in this case.)\n",
    "\n",
    "## 1. Introduction\n",
    "\n",
    "For our Python lessons this week, we're going to use notebooks like this one in a computer program called Jupyter. Jupyter is really cool because it lets us run Python code and write notes all in the same place! When we start using the cars in a few minutes, we'll use Jupyter notebooks with code that the cars understand. "
   ]
  },
  {
   "cell_type": "markdown",
   "metadata": {},
   "source": [
    "To run a cell of Python code in Jupyter, first type your code in a blank cell. Then, hold Shift and press Enter. Try it with the command below, and you'll see the results of your code right below the cell! (If you want, you can also run your code by clicking the button to the right of the down arrow under Insert at the top."
   ]
  },
  {
   "cell_type": "code",
   "execution_count": 2,
   "metadata": {
    "collapsed": false
   },
   "outputs": [],
   "source": [
    "# Add 23 and 6. \n",
    "23 + 6  "
   ]
  },
  {
   "cell_type": "markdown",
   "metadata": {},
   "source": [
    "**Comments:** the line above 23 + 6 is a comment. Python ignores anything that comes after the # sign. Comments are used to add notes, directions, and other ideas from the person writing the notebook. \n",
    "\n",
    "**Try it!** Write a short addition problem like the one above, and write a comment at the top of the cell to explain the problem, too. "
   ]
  },
  {
   "cell_type": "code",
   "execution_count": null,
   "metadata": {
    "collapsed": true
   },
   "outputs": [],
   "source": []
  },
  {
   "cell_type": "markdown",
   "metadata": {},
   "source": [
    "**Errors:** Once in a while, especially when we're first learning to code, we accidentally try to run code that doesn't quite follow all of Python's rules. When this happens, Python returns an **error message** to indicate that something's not right. The error message offers some explanation about what's wrong, too. \n",
    "\n",
    "Follow the **comments** in the cells below to see how this happens. "
   ]
  },
  {
   "cell_type": "code",
   "execution_count": 2,
   "metadata": {
    "collapsed": false
   },
   "outputs": [],
   "source": [
    "# Things go fine when we run the code here ...\n",
    "4 + 7"
   ]
  },
  {
   "cell_type": "code",
   "execution_count": 4,
   "metadata": {
    "collapsed": false
   },
   "outputs": [],
   "source": [
    "# ... but not here. \n",
    "12 + "
   ]
  },
  {
   "cell_type": "markdown",
   "metadata": {},
   "source": [
    "What went wrong? "
   ]
  },
  {
   "cell_type": "markdown",
   "metadata": {},
   "source": [
    "## 2. Printing\n",
    "\n",
    "Often when we code, we are interested in checking a result. To do so, we use the **print()** function. (We will learn about other built-in functions later.) The print() function's job is to output whatever we place inside the parentheses. Let's learn more here: https://www.youtube.com/watch?v=Y8_f9GV9Xk4. "
   ]
  },
  {
   "cell_type": "code",
   "execution_count": null,
   "metadata": {
    "collapsed": true
   },
   "outputs": [],
   "source": [
    "# Try to print the biggest number out there! \n"
   ]
  },
  {
   "cell_type": "markdown",
   "metadata": {},
   "source": [
    "But we don't just have to print numbers; we can also print letters, words, and sentences. More from Joyce: https://www.youtube.com/watch?v=ES5MOiYAjQE"
   ]
  },
  {
   "cell_type": "code",
   "execution_count": null,
   "metadata": {
    "collapsed": true
   },
   "outputs": [],
   "source": [
    "# Print a cooler sentence here. Make sure your sentence is at least six words long. \n"
   ]
  },
  {
   "cell_type": "markdown",
   "metadata": {},
   "source": [
    "Last, we don't have to print just one thing at a time. If we separate inputs with a comma, we can print multiple things at once: https://www.youtube.com/watch?v=8yIgFgbmNxw. "
   ]
  },
  {
   "cell_type": "code",
   "execution_count": 5,
   "metadata": {
    "collapsed": true
   },
   "outputs": [],
   "source": [
    "# Print two different things together: one should be made up of words/letters, and the other of numbers.\n"
   ]
  },
  {
   "cell_type": "markdown",
   "metadata": {},
   "source": [
    "Group Questions:\n",
    "- What would be the output from print(\"Two plus three is: \", 2 + 6)?\n",
    "- Find the error here: print(How can we be sure this will work?\") "
   ]
  },
  {
   "cell_type": "markdown",
   "metadata": {},
   "source": [
    "## 3. Math \n",
    "\n",
    "Python can perform the math problems you know and love from school. To start, we can perform basic addition and subtraction in the same way those problems also ways look. "
   ]
  },
  {
   "cell_type": "code",
   "execution_count": 7,
   "metadata": {
    "collapsed": false
   },
   "outputs": [],
   "source": [
    "# How to add 13 and 7\n",
    "13 + 7"
   ]
  },
  {
   "cell_type": "code",
   "execution_count": 11,
   "metadata": {
    "collapsed": false
   },
   "outputs": [],
   "source": [
    "# How to subtract 11 from 100\n",
    "100 - 11"
   ]
  },
  {
   "cell_type": "markdown",
   "metadata": {},
   "source": [
    "But Python is more than just a calculator! In the same way that we can print multiple things at once, we can also complete multiple math tasks at once. Check it out. "
   ]
  },
  {
   "cell_type": "code",
   "execution_count": 14,
   "metadata": {
    "collapsed": false
   },
   "outputs": [],
   "source": [
    "# How to add 31, 177, and 2\n",
    "31 + 177 + 2"
   ]
  },
  {
   "cell_type": "code",
   "execution_count": null,
   "metadata": {
    "collapsed": true
   },
   "outputs": [],
   "source": [
    "# How to 52 minus 9 minus 16\n",
    "52 - 9 - 16"
   ]
  },
  {
   "cell_type": "code",
   "execution_count": 17,
   "metadata": {
    "collapsed": false
   },
   "outputs": [],
   "source": [
    "# How to add 72 and 44, then subtract 8, and then add 21\n",
    "72 + 44 - 8 + 21"
   ]
  },
  {
   "cell_type": "markdown",
   "metadata": {},
   "source": [
    "**Your Turn:** In the cells below, you have some exercises with directions that appear as comments. See how much you can do!"
   ]
  },
  {
   "cell_type": "code",
   "execution_count": null,
   "metadata": {
    "collapsed": true
   },
   "outputs": [],
   "source": [
    "#Subtract 10 from 55.\n"
   ]
  },
  {
   "cell_type": "code",
   "execution_count": null,
   "metadata": {
    "collapsed": true
   },
   "outputs": [],
   "source": [
    "#Add 71 and 143, then subtract 14. Do this all in one line of code.\n"
   ]
  },
  {
   "cell_type": "code",
   "execution_count": null,
   "metadata": {
    "collapsed": true
   },
   "outputs": [],
   "source": [
    "#Try to write a math expression using addition/subtraction with 5 different numbers. Again, do this all in one line.\n"
   ]
  },
  {
   "cell_type": "markdown",
   "metadata": {},
   "source": [
    "## 4. Packages with Built-in Functions\n",
    "\n",
    "As we heard earlier, print is a **built-in function**, which means it's ready to use when we open Python. We don't have to install the print() function before using it. There are other functions, though, that come in groups called **packages**. To use these, we need to install the package first. Let's take a quick look at an example. Run the code in the cell below. "
   ]
  },
  {
   "cell_type": "code",
   "execution_count": 21,
   "metadata": {
    "collapsed": true
   },
   "outputs": [],
   "source": [
    "import numpy"
   ]
  },
  {
   "cell_type": "markdown",
   "metadata": {},
   "source": [
    "You just imported your first Python package! Once you've imported a package, you can use any of its functions by typing the package name and the function joined with a period. \n",
    "\n",
    "This particular package is called numpy (from \"numbers\" and \"Python\"). It's used for doing calculations with various kinds of numbers. For example, a maximum is the highest number in a group. We can use the maximum function in numpy to find the highest of 2 numbers by typing numpy.maximum() and putting the numbers we want to check inside the parenthesis."
   ]
  },
  {
   "cell_type": "code",
   "execution_count": 30,
   "metadata": {
    "collapsed": false
   },
   "outputs": [],
   "source": [
    "# How to find a maximum of 4 and 11 using the numpy package.\n",
    "numpy.maximum(3, 4)"
   ]
  },
  {
   "cell_type": "code",
   "execution_count": 32,
   "metadata": {
    "collapsed": false
   },
   "outputs": [],
   "source": [
    "# How to find a maximum of 10 and 33 using the numpy package. \n",
    "numpy.maximum(10, 17)"
   ]
  },
  {
   "cell_type": "markdown",
   "metadata": {},
   "source": [
    "**Your Turn:** Choose two different numbers. Then use the numpy.maximum command to show the highest one in the cell below. "
   ]
  },
  {
   "cell_type": "code",
   "execution_count": null,
   "metadata": {
    "collapsed": true
   },
   "outputs": [],
   "source": []
  }
 ],
 "metadata": {
  "kernelspec": {
   "display_name": "Python 3",
   "language": "python",
   "name": "python3"
  },
  "language_info": {
   "codemirror_mode": {
    "name": "ipython",
    "version": 3
   },
   "file_extension": ".py",
   "mimetype": "text/x-python",
   "name": "python",
   "nbconvert_exporter": "python",
   "pygments_lexer": "ipython3",
   "version": "3.6.0"
  }
 },
 "nbformat": 4,
 "nbformat_minor": 2
}
