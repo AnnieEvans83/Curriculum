{
 "cells": [
  {
   "cell_type": "markdown",
   "metadata": {},
   "source": [
    "# Data Science: Working with Datasets\n",
    "\n",
    "## Introduction\n",
    "\n",
    "When we have collected a lot of data, we need something bigger than a list to keep it organized. This is what **datasets** are used for. They are organized with rows and columns. The columns represent different traits that we are interested in. There is one row for each piece of data we collect. We'll start by **reading in**, or bringing in, a sample dataset. "
   ]
  },
  {
   "cell_type": "code",
   "execution_count": 1,
   "metadata": {
    "collapsed": true
   },
   "outputs": [],
   "source": [
    "# First, we import the pandas library, which is used often in Python data science.\n",
    "# We'll also import our old friend seaborn for plotting and the special command that goes with it. \n",
    "import pandas\n",
    "import seaborn\n",
    "%matplotlib inline"
   ]
  },
  {
   "cell_type": "code",
   "execution_count": 5,
   "metadata": {
    "collapsed": false
   },
   "outputs": [],
   "source": [
    "# Now, we'll use a pandas function call read_csv to read in the data set, which is about ice cream sundaes.\n",
    "# Notice that we set the dataset to variable so that we can use connected functions later. \n",
    "sundaes = pandas.read_csv('sundaes.csv') \n",
    "\n",
    "# And now, we'll preview the data set.\n",
    "print(sundaes) "
   ]
  },
  {
   "cell_type": "code",
   "execution_count": 4,
   "metadata": {
    "collapsed": false
   },
   "outputs": [],
   "source": [
    "# What happens if we take away print() around sundaes? Try it! (Remember: this might look different outside Jupyter.)\n"
   ]
  },
  {
   "cell_type": "markdown",
   "metadata": {},
   "source": [
    "Okay, there's a lot to see here, but don't get overwhelmed. Let's look through the rows and columns to see what's happening. "
   ]
  },
  {
   "cell_type": "markdown",
   "metadata": {},
   "source": [
    "## Now let's see what we can learn by using our Python libraries. \n",
    "\n",
    "### Part 1: Sums\n",
    "\n",
    "What if we wanted to know how many rows and columns we have? There's a function for that. "
   ]
  },
  {
   "cell_type": "code",
   "execution_count": 13,
   "metadata": {
    "collapsed": false
   },
   "outputs": [],
   "source": [
    "# Use .shape at the end of the dataset's name. (The index column doesn't count here.) We'll use a variable, too.\n",
    "s = sundaes.shape\n",
    "print(s)"
   ]
  },
  {
   "cell_type": "markdown",
   "metadata": {},
   "source": [
    "Maybe we want to know many total scoops of ice cream were used in the 29 sundaes. There's a function for that."
   ]
  },
  {
   "cell_type": "code",
   "execution_count": 15,
   "metadata": {
    "collapsed": false
   },
   "outputs": [],
   "source": [
    "# Type the column name after the dataset name, separated by a dot. Then add the .sum() function at the end. \n",
    "sundaes.scoops.sum()"
   ]
  },
  {
   "cell_type": "markdown",
   "metadata": {},
   "source": [
    "**Your turn** How many total toppings were used?"
   ]
  },
  {
   "cell_type": "code",
   "execution_count": null,
   "metadata": {
    "collapsed": true
   },
   "outputs": [],
   "source": [
    "# Type your code here. \n"
   ]
  },
  {
   "cell_type": "markdown",
   "metadata": {},
   "source": [
    "### Part 2: Choosing Certain Values\n",
    "\n",
    "What if we wanted to know how many sundaes used chocolate ice cream? We can't just use a sum because we aren't interested in the whole column, and the column doesn't contain numbers. (Remember strings vs. integers!) Instead, we'll use the **len()** functions, which counts for us. "
   ]
  },
  {
   "cell_type": "code",
   "execution_count": 39,
   "metadata": {
    "collapsed": false
   },
   "outputs": [],
   "source": [
    "len(sundaes[sundaes.ice_cream == 'chocolate'])"
   ]
  },
  {
   "cell_type": "markdown",
   "metadata": {},
   "source": [
    "Look at the code above from the inside out:\n",
    "   - First, we tell Python we want the places where the ice_cream column says 'chocolate' in sundaes. \n",
    "   - Then, we tell Python we want the dataset called sundaes.\n",
    "   - Last, we use the length command to count for us. "
   ]
  },
  {
   "cell_type": "markdown",
   "metadata": {},
   "source": [
    "**Your Turn**"
   ]
  },
  {
   "cell_type": "code",
   "execution_count": null,
   "metadata": {
    "collapsed": true
   },
   "outputs": [],
   "source": [
    "# How many sundaes used Mexican vanilla?\n"
   ]
  },
  {
   "cell_type": "code",
   "execution_count": null,
   "metadata": {
    "collapsed": true
   },
   "outputs": [],
   "source": [
    "# How many people shared their sundaes?\n"
   ]
  },
  {
   "cell_type": "markdown",
   "metadata": {},
   "source": [
    "## Part 3. Back to Bar Plots (sort of)\n",
    "\n",
    "Now let's show off our data with the bar plot, which we learned about yesterday. Remember that we've already imported seaborn and the special command for plots.\n",
    "\n",
    "The good news is that seaborn will do all the counting for us! We just need to tell it the name of the column and dataset we want. For this approach, we use **countplot()** instead of barplot(). "
   ]
  },
  {
   "cell_type": "code",
   "execution_count": 7,
   "metadata": {
    "collapsed": false
   },
   "outputs": [],
   "source": [
    "# Make a bar plot showing how often people got sundaes on each day of the week. \n",
    "seaborn.countplot(x = 'day', data = sundaes)\n",
    "seaborn.plt.show()"
   ]
  },
  {
   "cell_type": "markdown",
   "metadata": {},
   "source": [
    "Which days were most popular? Why do you think that is?"
   ]
  },
  {
   "cell_type": "markdown",
   "metadata": {},
   "source": [
    "**Your Turn**"
   ]
  },
  {
   "cell_type": "code",
   "execution_count": 37,
   "metadata": {
    "collapsed": false
   },
   "outputs": [],
   "source": [
    "# Make a plot showing how many people did and did not share their sundaes.\n"
   ]
  },
  {
   "cell_type": "markdown",
   "metadata": {},
   "source": [
    " "
   ]
  },
  {
   "cell_type": "markdown",
   "metadata": {},
   "source": [
    "# Lists and *For* Loops\n",
    "\n",
    "Most of the lists we've used so far have been pretty short. But what if we had a list of 20 -- or even more -- things? And imagine that we wanted to do something with each individual item in that list. It would take a lot of coding to write out 20 or more lines of code like that. There's good news, though: we have *for* loops! These loops allow us to write just a few lines of code and then have a function work through each item in our list automatically. \n",
    "\n",
    "In the example below, we use a for loop to print each item in a list."
   ]
  },
  {
   "cell_type": "code",
   "execution_count": 41,
   "metadata": {
    "collapsed": true
   },
   "outputs": [],
   "source": [
    "# Start with our list of car brands from yesterday.\n",
    "car_brands = ['Jeep', 'Tesla', 'Mazda', 'Toyota']"
   ]
  },
  {
   "cell_type": "code",
   "execution_count": 44,
   "metadata": {
    "collapsed": false
   },
   "outputs": [],
   "source": [
    "# Now print each name using a for loop with just 2 lines of code. \n",
    "for car in car_brands:\n",
    "    print(car) "
   ]
  },
  {
   "cell_type": "markdown",
   "metadata": {},
   "source": [
    "What's happening in the code above? In the first line, we're telling Python that we want to do something *for* every car in the list car_brands. In the second line, we tell Python what we want to do with each car, which is to print them. That's it!\n",
    "\n",
    "And here's the fun part: it doesn't matter what word we write where the word \"car\" is, as long as we use the same word there and in the function below, print(). Use the cell below to type the same code, only using a different word in place of car. You can even make up a word, as long as you use the same word in both places!"
   ]
  },
  {
   "cell_type": "code",
   "execution_count": null,
   "metadata": {
    "collapsed": true
   },
   "outputs": [],
   "source": [
    "# Same loop with new word in place of \"car\"\n",
    "\n"
   ]
  },
  {
   "cell_type": "markdown",
   "metadata": {},
   "source": [
    "## Once More, with Math\n",
    "\n",
    "We can also use *for* loops to apply math operations to items in our list. So if we had a list of numbers and wanted to add 4 to each one, we would use print(number + 4) in the second line of our loop's code. Think about what would we write in the first line of the loop. "
   ]
  },
  {
   "cell_type": "code",
   "execution_count": 47,
   "metadata": {
    "collapsed": true
   },
   "outputs": [],
   "source": [
    "# Here's the list to start:\n",
    "numbers = [5, 4, 11, 23, 77]"
   ]
  },
  {
   "cell_type": "code",
   "execution_count": 49,
   "metadata": {
    "collapsed": false
   },
   "outputs": [],
   "source": [
    "# And now the loop that subtracts 2 from each number in the list:\n",
    "for num in numbers:\n",
    "    print(num - 2)"
   ]
  },
  {
   "cell_type": "markdown",
   "metadata": {},
   "source": [
    "Notice that the second line gets indented. Python does this automatically when we start the first line with 'for' and end with a colon. Python expects a *for* loop in this case. Having the second line indented means that that line is the next step in a set of functions. The two lines are tied together. In fact, they won't work separately. See what happens if you remove one line or comment it out. "
   ]
  },
  {
   "cell_type": "markdown",
   "metadata": {
    "collapsed": true
   },
   "source": [
    "## **All Together Now** \n",
    "Let's make a list as a group and try some math on it using a *for* loop."
   ]
  },
  {
   "cell_type": "code",
   "execution_count": null,
   "metadata": {
    "collapsed": true
   },
   "outputs": [],
   "source": [
    "# Create a list of 10 numbers and store it in a variable called \"digits\".\n"
   ]
  },
  {
   "cell_type": "code",
   "execution_count": null,
   "metadata": {
    "collapsed": true
   },
   "outputs": [],
   "source": [
    "# Use a for loop to add 21 to each number.\n",
    "\n"
   ]
  },
  {
   "cell_type": "markdown",
   "metadata": {
    "collapsed": true
   },
   "source": [
    "## **Your Turn** \n",
    "Now it's time to make your own *for* loop. Follow the directions in each cell's comments to make this happen. Create your own list of breakfast foods, and store it in a variable called \"breakfast\". "
   ]
  },
  {
   "cell_type": "code",
   "execution_count": null,
   "metadata": {
    "collapsed": true
   },
   "outputs": [],
   "source": [
    "# Create your list of breakfast foods here. Remember to store it in a variable.\n"
   ]
  },
  {
   "cell_type": "code",
   "execution_count": null,
   "metadata": {
    "collapsed": true
   },
   "outputs": [],
   "source": [
    "# Now use a for loop to find the length of each item using the len() fuction. \n"
   ]
  }
 ],
 "metadata": {
  "kernelspec": {
   "display_name": "Python 3",
   "language": "python",
   "name": "python3"
  },
  "language_info": {
   "codemirror_mode": {
    "name": "ipython",
    "version": 3
   },
   "file_extension": ".py",
   "mimetype": "text/x-python",
   "name": "python",
   "nbconvert_exporter": "python",
   "pygments_lexer": "ipython3",
   "version": "3.6.0"
  }
 },
 "nbformat": 4,
 "nbformat_minor": 2
}
