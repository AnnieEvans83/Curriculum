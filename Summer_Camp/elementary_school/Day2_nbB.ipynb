{
 "cells": [
  {
   "cell_type": "markdown",
   "metadata": {},
   "source": [
    "# Lists, Lists, Lists\n",
    "\n",
    "In Python, lists are used to store a group of items that go together -- just like a list in real life! We can make a list of car names, cities in Texas, or anything other set of data that appears as names and/or numbers. We can even make a list of lists, but we won't worry about that today.\n",
    "\n",
    "Lists are often set equal to a logical name in the same way that variables are. We also put the items of a list between square brackets and separate the items with commas. And like with the **print()** function, words go inside quotation marks. "
   ]
  },
  {
   "cell_type": "code",
   "execution_count": 4,
   "metadata": {
    "collapsed": false
   },
   "outputs": [],
   "source": [
    "# Sample list of car names\n",
    "car_brands = ['Tesla', 'Mazda', 'Toyota', 'Jeep']\n",
    "print(car_brands)"
   ]
  },
  {
   "cell_type": "code",
   "execution_count": null,
   "metadata": {
    "collapsed": true
   },
   "outputs": [],
   "source": [
    "# Try to create a list of at least 5 different ice-cream flavors. Set it equal to a variable, too.\n",
    "\n",
    "# Now print it!\n"
   ]
  },
  {
   "cell_type": "markdown",
   "metadata": {},
   "source": [
    "Imagine that you want to use a certain item in the list of car names. We can do this by using the **index** of that item. The index is number that tells us the location of something in a list. The first item has an index of 0, the second item has an index of 1, and so on. Be careful with your numbers!"
   ]
  },
  {
   "cell_type": "code",
   "execution_count": 5,
   "metadata": {
    "collapsed": false
   },
   "outputs": [],
   "source": [
    "# How to get the second item in the car list, Tesla\n",
    "print(car_brands[1])"
   ]
  },
  {
   "cell_type": "code",
   "execution_count": null,
   "metadata": {
    "collapsed": true
   },
   "outputs": [],
   "source": [
    "# What code would you use to get Mazda from the car list?\n"
   ]
  },
  {
   "cell_type": "markdown",
   "metadata": {},
   "source": [
    "Try running the code **print(car_brands[4])**. What happens? Why?"
   ]
  },
  {
   "cell_type": "code",
   "execution_count": null,
   "metadata": {
    "collapsed": true
   },
   "outputs": [],
   "source": []
  },
  {
   "cell_type": "markdown",
   "metadata": {},
   "source": [
    "What if we want to add something to a list that already exists? Good news: we don't have to create a brand-new list. We can use the **append()** function by adding it onto the variable you used to name the list. Check it out!"
   ]
  },
  {
   "cell_type": "code",
   "execution_count": 6,
   "metadata": {
    "collapsed": false
   },
   "outputs": [],
   "source": [
    "# How to add Ford to our list of car names\n",
    "car_brands.append('Ford')\n",
    "print(car_brands)"
   ]
  },
  {
   "cell_type": "code",
   "execution_count": 15,
   "metadata": {
    "collapsed": false
   },
   "outputs": [],
   "source": [
    "# Try adding another flavor of ice cream to the list you created earlier! \n"
   ]
  },
  {
   "cell_type": "code",
   "execution_count": null,
   "metadata": {
    "collapsed": true
   },
   "outputs": [],
   "source": [
    "# Now print the updated list. \n"
   ]
  },
  {
   "cell_type": "markdown",
   "metadata": {},
   "source": [
    "Note: we can remove items from a list in the same way using **remove()** instead of append()."
   ]
  },
  {
   "cell_type": "markdown",
   "metadata": {},
   "source": [
    "## Sorting\n",
    "\n",
    "We can put the items of a list in order easily in Python. For lists of words, this means alphabetical order. For numbers, it means least to greatest usually. (Python will put numbers first if your list is mixed.) \n",
    "\n",
    "The way to sort a list is to use the **sort** function in a similar way to how we used append(). Let's sort the car list to see how it works."
   ]
  },
  {
   "cell_type": "code",
   "execution_count": 4,
   "metadata": {
    "collapsed": true
   },
   "outputs": [],
   "source": [
    "car_brands.sort()"
   ]
  },
  {
   "cell_type": "code",
   "execution_count": 7,
   "metadata": {
    "collapsed": false
   },
   "outputs": [],
   "source": [
    "print(car_brands)"
   ]
  },
  {
   "cell_type": "code",
   "execution_count": null,
   "metadata": {
    "collapsed": true
   },
   "outputs": [],
   "source": [
    "# Try to sort your list of ice-cream flavors.\n"
   ]
  },
  {
   "cell_type": "code",
   "execution_count": null,
   "metadata": {
    "collapsed": true
   },
   "outputs": [],
   "source": [
    "# Now print the new list to make sure it worked!\n"
   ]
  },
  {
   "cell_type": "markdown",
   "metadata": {},
   "source": [
    "**Snap review:** what data-science tool could we use sorting to help with? (Hint: we talked about it earlier today!)"
   ]
  },
  {
   "cell_type": "markdown",
   "metadata": {},
   "source": [
    " "
   ]
  },
  {
   "cell_type": "markdown",
   "metadata": {},
   "source": [
    "# How to \"See\" Data\n",
    "\n",
    "We learned earlier that data is made up of information and facts. So how do we show data? We can't just put on a stage or on TV by itself, can we?\n",
    "\n",
    "To show, or **visualize**, data, we often use **plots**. Let's look through a short example. What's happening in the first cell below?"
   ]
  },
  {
   "cell_type": "code",
   "execution_count": 9,
   "metadata": {
    "collapsed": false
   },
   "outputs": [],
   "source": [
    "activities = ['soccer', 'swimming', 'frisbee']\n",
    "students = [5, 3, 8]"
   ]
  },
  {
   "cell_type": "markdown",
   "metadata": {},
   "source": [
    "If you said that we're making lists, you're exactly right! The first one, activities, is a list of activities that students like to do. The second list indicates how many students like each activity, and the two lists match by index. So 5 students like soccer, 3 like swimming, and 8 like frisbee. \n",
    "\n",
    "Okay, now the real fun happens! Pay close attention to the comments in the cell below."
   ]
  },
  {
   "cell_type": "code",
   "execution_count": 1,
   "metadata": {
    "collapsed": false
   },
   "outputs": [],
   "source": [
    "# We use this special command at the top to tell Python we want to show a plot. \n",
    "%matplotlib inline \n",
    "import seaborn # We're importing another library here. It's called seaborn and is used for plots.\n",
    "seaborn.barplot(activities, students) # Last, we use the bar plot command for our plot. And we're done!"
   ]
  },
  {
   "cell_type": "markdown",
   "metadata": {},
   "source": [
    "Pretty, isn't it? This plot is called a **bar plot** because each bar shows how many students like each activity. There's one bar for each activity, and a taller bar means more students like that activity. The numbers on the left show the exact number of students.\n",
    "\n",
    "In the cell below, try the **seaborn.barplot** function again, but switch the position of the list names (students and activities). What happens? "
   ]
  },
  {
   "cell_type": "code",
   "execution_count": 35,
   "metadata": {
    "collapsed": false
   },
   "outputs": [],
   "source": [
    "# Switch the list positions\n",
    "seaborn.barplot(students, activities) "
   ]
  },
  {
   "cell_type": "markdown",
   "metadata": {},
   "source": [
    "Crazy, right? This is how the order of your lists affects your plot. The first version of the plot is used more commonly, so try to use vertical bars when you can. That means putting the number list second. "
   ]
  },
  {
   "cell_type": "markdown",
   "metadata": {},
   "source": [
    "## Your Turn\n",
    "\n",
    "Now you're going to collect some data to make your own plot. Here's what you need to do:\n",
    "1. Ask each of your classmates and teachers if they like vanilla, strawberry, or chocolate ice cream best, and write down how many like each flavor.\n",
    "2. In Python make two lists: one for the flavors, and one for how many people like each. Use the example above for help, and make sure that your numbers and flavors match by index. \n",
    "3. Create a bar plot to show off your fancy new data! "
   ]
  },
  {
   "cell_type": "code",
   "execution_count": null,
   "metadata": {
    "collapsed": true
   },
   "outputs": [],
   "source": [
    "# Create your two lists, and give them each names.\n",
    "\n"
   ]
  },
  {
   "cell_type": "markdown",
   "metadata": {},
   "source": [
    "Since we already ran the special command and imported seaborn, you don't need to do it again here. "
   ]
  },
  {
   "cell_type": "code",
   "execution_count": null,
   "metadata": {
    "collapsed": true
   },
   "outputs": [],
   "source": [
    "# Plot your data! Which one is the favorite? Is there a tie? \n"
   ]
  },
  {
   "cell_type": "markdown",
   "metadata": {},
   "source": [
    "# Day 2 Discussion and Review \n",
    "\n",
    "1. Why are people so interested in self-driving cars today? Is it just because they seem cool?\n",
    "2. What does a median tell us about a set of data/numbers? How do we find a median?\n",
    "3. Why is it helpful to visualize data by using plots? "
   ]
  },
  {
   "cell_type": "code",
   "execution_count": null,
   "metadata": {
    "collapsed": true
   },
   "outputs": [],
   "source": [
    "# Create a list of 4 things in your room at home. Name the list \"room\".\n"
   ]
  },
  {
   "cell_type": "code",
   "execution_count": null,
   "metadata": {
    "collapsed": true
   },
   "outputs": [],
   "source": [
    "# Add 'floor' to your list using the .append() function. Then print the list to make sure it all worked. \n"
   ]
  },
  {
   "cell_type": "code",
   "execution_count": null,
   "metadata": {
    "collapsed": true
   },
   "outputs": [],
   "source": [
    "# Use index numbers to print the first and fourth things in your list. \n"
   ]
  },
  {
   "cell_type": "code",
   "execution_count": null,
   "metadata": {
    "collapsed": true
   },
   "outputs": [],
   "source": [
    "# Remove 'floor' from your list to get back to your original list. Print the list to make sure it worked. \n"
   ]
  },
  {
   "cell_type": "code",
   "execution_count": null,
   "metadata": {
    "collapsed": true
   },
   "outputs": [],
   "source": [
    "# Sort your list alphabetically. Then print to check. \n"
   ]
  },
  {
   "cell_type": "markdown",
   "metadata": {},
   "source": [
    "EXTRA: visualizing data "
   ]
  },
  {
   "cell_type": "code",
   "execution_count": 47,
   "metadata": {
    "collapsed": true
   },
   "outputs": [],
   "source": [
    "# You're given a list of cities in the United States. \n",
    "states = ['Pennsylvania', 'Texas', 'Oklahoma', 'Minnesota']"
   ]
  },
  {
   "cell_type": "code",
   "execution_count": 48,
   "metadata": {
    "collapsed": true
   },
   "outputs": [],
   "source": [
    "# Complete the list here with numbers to indicate how many big cities you think each state has. \n",
    "# It's okay if your numbers aren't exactly right. Just guess! (Hint: no state has more than 5.)\n",
    "number_cities = []"
   ]
  },
  {
   "cell_type": "code",
   "execution_count": 50,
   "metadata": {
    "collapsed": false
   },
   "outputs": [],
   "source": [
    "# Now make your barplot. The special command and seaborn should already be imported. But if you can add them again if\n",
    "# you get an error. \n",
    "seaborn.barplot()\n"
   ]
  }
 ],
 "metadata": {
  "kernelspec": {
   "display_name": "Python 3",
   "language": "python",
   "name": "python3"
  },
  "language_info": {
   "codemirror_mode": {
    "name": "ipython",
    "version": 3
   },
   "file_extension": ".py",
   "mimetype": "text/x-python",
   "name": "python",
   "nbconvert_exporter": "python",
   "pygments_lexer": "ipython3",
   "version": "3.6.0"
  }
 },
 "nbformat": 4,
 "nbformat_minor": 2
}
