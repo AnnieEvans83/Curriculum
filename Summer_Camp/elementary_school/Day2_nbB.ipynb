{
 "cells": [
  {
   "cell_type": "markdown",
   "metadata": {},
   "source": [
    "# Lists, Lists, Lists\n",
    "\n",
    "In Python, lists are used to store a group of items that go together -- just like a list in real life! We can make a list of car names, cities in Texas, or anything other set of data that appears as names and/or numbers. We can even make a list of lists, but we won't worry about that today.\n",
    "\n",
    "Lists are often set equal to a logical name in the same way that variables are. We also put the items of a list between square brackets and separate the items with commas. And like with the **print()** function, words go inside quotation marks. "
   ]
  },
  {
   "cell_type": "code",
   "execution_count": 19,
   "metadata": {
    "collapsed": false
   },
   "outputs": [],
   "source": [
    "# Sample list of car names\n",
    "car_brands = ['Tesla', 'Mazda', 'Toyota', 'Jeep']\n",
    "print(car_brands)"
   ]
  },
  {
   "cell_type": "code",
   "execution_count": null,
   "metadata": {
    "collapsed": true
   },
   "outputs": [],
   "source": [
    "# Try to create a list of at least 5 different ice-cream flavors. Set it equal to a variable, too.\n",
    "\n",
    "# Now print it!\n"
   ]
  },
  {
   "cell_type": "markdown",
   "metadata": {},
   "source": [
    "Imagine that you want to use a certain item in the list of car names. We can do this by using the **index** of that item. The first item has an index of 0, the second item has an index of 1, and so on. Be careful with your numbers!"
   ]
  },
  {
   "cell_type": "code",
   "execution_count": 8,
   "metadata": {
    "collapsed": false
   },
   "outputs": [],
   "source": [
    "# How to get the second item in the car list, Tesla\n",
    "car_brands[1]"
   ]
  },
  {
   "cell_type": "code",
   "execution_count": null,
   "metadata": {
    "collapsed": true
   },
   "outputs": [],
   "source": [
    "# What code would you use to get Mazda from the car list?\n"
   ]
  },
  {
   "cell_type": "markdown",
   "metadata": {},
   "source": [
    "Try running the code car_brands[4]. What happens? Why?"
   ]
  },
  {
   "cell_type": "code",
   "execution_count": null,
   "metadata": {
    "collapsed": true
   },
   "outputs": [],
   "source": []
  },
  {
   "cell_type": "markdown",
   "metadata": {},
   "source": [
    "What if we want to add something to a list that already exists? Good news: we don't have to create a brand-new list. We can use the **append()** function by adding it onto the variable you used to name the list. Check it out!"
   ]
  },
  {
   "cell_type": "code",
   "execution_count": 11,
   "metadata": {
    "collapsed": false
   },
   "outputs": [],
   "source": [
    "# How to add Ford to our list of car names\n",
    "car_brands.append('Ford')"
   ]
  },
  {
   "cell_type": "code",
   "execution_count": null,
   "metadata": {
    "collapsed": true
   },
   "outputs": [],
   "source": [
    "print(car_brands)"
   ]
  },
  {
   "cell_type": "code",
   "execution_count": 15,
   "metadata": {
    "collapsed": false
   },
   "outputs": [],
   "source": [
    "# Try adding another flavor of ice cream to the list you created earlier! \n"
   ]
  },
  {
   "cell_type": "code",
   "execution_count": null,
   "metadata": {
    "collapsed": true
   },
   "outputs": [],
   "source": [
    "# Now print the updated list. \n"
   ]
  },
  {
   "cell_type": "markdown",
   "metadata": {},
   "source": [
    "Note: we can remove items from a list in the same way using **remove()** instead of append()."
   ]
  },
  {
   "cell_type": "markdown",
   "metadata": {},
   "source": [
    "## Sorting\n",
    "\n",
    "We can put the items of a list in order easily in Python. For lists of words, this means alphabetical order. For numbers, it means least to greatest usually. (Python will put numbers first if your list is mixed.) \n",
    "\n",
    "The way to sort a list is to use the **sort** function in a similar way to how we used append(). Let's sort the car list to see how it works."
   ]
  },
  {
   "cell_type": "code",
   "execution_count": 17,
   "metadata": {
    "collapsed": true
   },
   "outputs": [],
   "source": [
    "car_brands.sort()"
   ]
  },
  {
   "cell_type": "code",
   "execution_count": 20,
   "metadata": {
    "collapsed": false
   },
   "outputs": [],
   "source": [
    "print(car_brands)"
   ]
  },
  {
   "cell_type": "code",
   "execution_count": null,
   "metadata": {
    "collapsed": true
   },
   "outputs": [],
   "source": [
    "# Try to sort your list of ice-cream flavors.\n"
   ]
  },
  {
   "cell_type": "code",
   "execution_count": null,
   "metadata": {
    "collapsed": true
   },
   "outputs": [],
   "source": [
    "# Now print the new list to make sure it worked!\n"
   ]
  }
 ],
 "metadata": {
  "kernelspec": {
   "display_name": "Python 3",
   "language": "python",
   "name": "python3"
  },
  "language_info": {
   "codemirror_mode": {
    "name": "ipython",
    "version": 3
   },
   "file_extension": ".py",
   "mimetype": "text/x-python",
   "name": "python",
   "nbconvert_exporter": "python",
   "pygments_lexer": "ipython3",
   "version": "3.6.0"
  }
 },
 "nbformat": 4,
 "nbformat_minor": 2
}
