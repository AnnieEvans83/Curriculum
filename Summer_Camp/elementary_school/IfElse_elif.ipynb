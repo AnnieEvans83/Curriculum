{
 "cells": [
  {
   "cell_type": "markdown",
   "metadata": {},
   "source": [
    "# If-Else Statements\n",
    "\n",
    "Let's start with a zombie introduction to the first part of if-else statements, the **if** part: https://www.youtube.com/watch?v=m2Ux2PnJe6E. \n",
    "\n",
    "That takes care of the \"if,\" but what about the \"else\"? Think of the car example about bringing a rain coat in the video. If it's raining, you take a rain jacket (or an umbrella). But if the weather is doing something **else**, we do not need the rain jacket. \n",
    "\n",
    "Here's a simpler version of the thinking (and how a computer would think):\n",
    "\n",
    "- If raining, then take rain jacket.\n",
    "- Else (if not raining), then do not take rain jacket. \n",
    "\n",
    "Let's look at how an if statement works in Python, and then we'll add the \"else\" in a moment."
   ]
  },
  {
   "cell_type": "code",
   "execution_count": 3,
   "metadata": {
    "collapsed": false
   },
   "outputs": [],
   "source": [
    "age = 1\n",
    "if age < 2:\n",
    "    print('You are too young, my friend!')"
   ]
  },
  {
   "cell_type": "markdown",
   "metadata": {},
   "source": [
    "First, the variable age is set to 1. Then we have the 3 parts of an if statement:\n",
    "\n",
    "- the keyword 'if'\n",
    "- the conditional statement (age < 2 in the example above, or raining outside in our opening discussion)\n",
    "- a block of indented code that runs only if the conditional statement is True \n",
    "\n",
    "Notice that the variable we created in the first line also appears in the conditional statement. This has to happen for our if statement to work!\n",
    "\n",
    "**Let's try it!** What statement should we add to the code below to match the *if* part? What happens when we change the different parts of our code?"
   ]
  },
  {
   "cell_type": "code",
   "execution_count": null,
   "metadata": {
    "collapsed": true
   },
   "outputs": [],
   "source": [
    "age = 13 \n",
    "if age > 2:\n",
    "    # your code goes here!"
   ]
  },
  {
   "cell_type": "markdown",
   "metadata": {},
   "source": [
    "Now things get really interesting. What if we also want Python to take a certain action when the condition is not true? That's where the **else** statement comes in. What do you think the output will be when we change age to a number greater than 4?"
   ]
  },
  {
   "cell_type": "code",
   "execution_count": 7,
   "metadata": {
    "collapsed": false
   },
   "outputs": [],
   "source": [
    "age = 4\n",
    "if age < 5:\n",
    "    print('You are too young, my friend!')\n",
    "else:\n",
    "    print('Welcome aboard!')"
   ]
  },
  {
   "cell_type": "markdown",
   "metadata": {},
   "source": [
    "**Your Turn**"
   ]
  },
  {
   "cell_type": "code",
   "execution_count": null,
   "metadata": {
    "collapsed": true
   },
   "outputs": [],
   "source": [
    "# Experiment with x and y values to activate each of the two different print statements.\n",
    "x = ?\n",
    "y = ?\n",
    "\n",
    "if x < y:\n",
    "    print('x is smaller than y.')\n",
    "else:\n",
    "    print(x - y)"
   ]
  },
  {
   "cell_type": "markdown",
   "metadata": {},
   "source": [
    "If-else statements don't have to be used for numbers only. We can also use them to see if words match. \n",
    "\n",
    "What would we have to do in the first line of code to meet the \"else\" condition below? "
   ]
  },
  {
   "cell_type": "code",
   "execution_count": 10,
   "metadata": {
    "collapsed": false
   },
   "outputs": [],
   "source": [
    "# What car would you like to rent today?\n",
    "car = \"Ferrari\"\n",
    "\n",
    "if car == \"Ferrari\":\n",
    "    print(\"Great!! It will cost only all your money...\")\n",
    "else:\n",
    "    print(\"Sorry we don't have that. We'll just give you something that moves.\")"
   ]
  },
  {
   "cell_type": "markdown",
   "metadata": {},
   "source": [
    "**Create your own!** Try writing an if-else statement that prints \"That's a tall building!\" if the variable *floors* is greater than 12. Otherwise, the statement should print \"We need more stories for a better view!\""
   ]
  },
  {
   "cell_type": "code",
   "execution_count": null,
   "metadata": {
    "collapsed": true
   },
   "outputs": [],
   "source": [
    "# Type your code here.\n",
    "\n",
    "\n",
    "\n"
   ]
  },
  {
   "cell_type": "markdown",
   "metadata": {},
   "source": [
    "# If-Elif-Else Statements\n",
    "\n",
    "Think back to our rain-jacket scenario earlier this morning. The only decision we had to make was what to do if was raining and what to do if not. But what if we add a third condition? Imagine that we want to have one response for rain, a different response for wind (maybe a hat to keep your hair under control!), and a third response for any other situation. \n",
    "\n",
    "This is where **if-elif-else** statements come in handy. The **elif** (for \"else if\") part in the middle covers the second condition. Look at the example below, building off of what we used earlier today. "
   ]
  },
  {
   "cell_type": "code",
   "execution_count": 13,
   "metadata": {
    "collapsed": false
   },
   "outputs": [],
   "source": [
    "age = 3\n",
    "if age < 2:\n",
    "    print('You are too young, my friend!')\n",
    "elif age == 3:\n",
    "    print('Your age is just right!')\n",
    "else:\n",
    "    print('You are too old, my friend!') "
   ]
  },
  {
   "cell_type": "markdown",
   "metadata": {},
   "source": [
    "Here's what we're telling Python with our code: \n",
    "- if age less than 2, then too young\n",
    "- if age is 3, then just right\n",
    "- otherwise, too old\n",
    "\n",
    "Okay, let's practice now by revisiting some other examples from this morning."
   ]
  },
  {
   "cell_type": "code",
   "execution_count": null,
   "metadata": {
    "collapsed": true
   },
   "outputs": [],
   "source": [
    "# Experiment with x and y values to make each of the three conditions below True one-at-a-time.\n",
    "x = ?\n",
    "y = ?\n",
    "\n",
    "if x < y:\n",
    "    print('Hah! x is smaller than y')\n",
    "elif x > y:\n",
    "    print(x + y)\n",
    "else:\n",
    "    print(x - y)"
   ]
  },
  {
   "cell_type": "markdown",
   "metadata": {},
   "source": [
    "Here is the car-rental statement from earlier. Can you add an elif statement to print \"Oh Yeah! You will have a fun time!\" if the car chosen is a Mustang?"
   ]
  },
  {
   "cell_type": "code",
   "execution_count": null,
   "metadata": {
    "collapsed": true
   },
   "outputs": [],
   "source": [
    "car = \"Ferrari\"\n",
    "\n",
    "if car == \"Ferrari\":\n",
    "    print(\"Great!! It will cost only all your money...\")\n",
    "else:\n",
    "    print(\"Sorry we don't have that. We'll just give you something that moves.\")"
   ]
  },
  {
   "cell_type": "markdown",
   "metadata": {},
   "source": [
    "**Challenge:** we can have as many elif statements in between the if and else statements as we want. See if you can add two more elif statements: one for a motorcycle and one for a school bus. You can have the statements print whatever you'd like!"
   ]
  },
  {
   "cell_type": "code",
   "execution_count": null,
   "metadata": {
    "collapsed": true
   },
   "outputs": [],
   "source": [
    "car = \"Ferrari\"\n",
    "\n",
    "if car == \"Ferrari\":\n",
    "    print(\"Great!! It will cost only all your money...\")\n",
    "else:\n",
    "    print(\"Sorry we don't have that. We'll just give you something that moves.\")"
   ]
  }
 ],
 "metadata": {
  "kernelspec": {
   "display_name": "Python 3",
   "language": "python",
   "name": "python3"
  },
  "language_info": {
   "codemirror_mode": {
    "name": "ipython",
    "version": 3
   },
   "file_extension": ".py",
   "mimetype": "text/x-python",
   "name": "python",
   "nbconvert_exporter": "python",
   "pygments_lexer": "ipython3",
   "version": "3.6.0"
  }
 },
 "nbformat": 4,
 "nbformat_minor": 2
}
