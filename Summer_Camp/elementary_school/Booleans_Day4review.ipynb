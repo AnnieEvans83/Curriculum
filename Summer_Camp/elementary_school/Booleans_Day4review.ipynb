{
 "cells": [
  {
   "cell_type": "markdown",
   "metadata": {},
   "source": [
    "# Booleans\n",
    "\n",
    "In the slideshow we just saw, you learned about cascades and image classification. As you learned from the bike-repair team, each process involves checking for an answer to a yes-or-no question. (Such as: does the bike have two wheels?) Checking for whether or not a statement like this is true or false is called **Boolean** logic, and -- you guessed it -- there's a way to use it in Python! \n",
    "\n",
    "In fact, there are two ways. Booleans can be for:\n",
    "- Testing if something is True or False\n",
    "- Assigning a variable as True or False "
   ]
  },
  {
   "cell_type": "code",
   "execution_count": null,
   "metadata": {
    "collapsed": true
   },
   "outputs": [],
   "source": [
    "# Have you had a birthday this year? True or False\n",
    "birthday_this_year = ?\n",
    "\n",
    "# In which year you were born?\n",
    "birthyear = ?\n",
    "current_year = ?\n",
    "\n",
    "# Age calculation:\n",
    "age = current_year - birthyear\n",
    "if birthday_this_year == False:\n",
    "    age = age - 1\n",
    "\n",
    "print(\"You are {} years old!\".format(age))"
   ]
  },
  {
   "cell_type": "markdown",
   "metadata": {},
   "source": [
    "Note that in the code above we used booleans in both ways:\n",
    "- We assigned True or False to the variable birthday_this_year.\n",
    "- We tested if birthday_this_year == False was True."
   ]
  },
  {
   "cell_type": "markdown",
   "metadata": {},
   "source": [
    "Now let's write our own Boolean statements together. "
   ]
  },
  {
   "cell_type": "code",
   "execution_count": null,
   "metadata": {
    "collapsed": true
   },
   "outputs": [],
   "source": [
    "# First, let's make a variable called \"summer\". Should we set it to True or False?\n"
   ]
  },
  {
   "cell_type": "code",
   "execution_count": null,
   "metadata": {
    "collapsed": true
   },
   "outputs": [],
   "source": [
    "# Now, let's write an if-else statement that prints different statements for whether or not it's summer.\n"
   ]
  },
  {
   "cell_type": "markdown",
   "metadata": {},
   "source": [
    "Does the if-else statement work if we set *summer* to False?"
   ]
  },
  {
   "cell_type": "markdown",
   "metadata": {},
   "source": [
    "**Your Turn:** Create an if-else statement that uses True or False (anything you want)."
   ]
  },
  {
   "cell_type": "code",
   "execution_count": null,
   "metadata": {
    "collapsed": true
   },
   "outputs": [],
   "source": [
    "# Write your code here!\n"
   ]
  },
  {
   "cell_type": "markdown",
   "metadata": {},
   "source": [
    "# Day 4 Review and Practice"
   ]
  },
  {
   "cell_type": "markdown",
   "metadata": {
    "collapsed": false
   },
   "source": [
    "## Review/Discussion Questions\n",
    "\n",
    "- How is detecting a stop sign different from detecting a pedestrian? Why is that important for an autonomous car's response? \n",
    "- What is the difference between an if-else statement and an if-elif-else statement?\n",
    "- Overall, do you think autonomous cars will make people's lives better or worse? Will most people want to start using them if they become available?"
   ]
  },
  {
   "cell_type": "markdown",
   "metadata": {},
   "source": [
    "**If-else statements:** Complete the if-else statement below in 2 different ways: one to get \"We're riding on a motorcycle!\" for the output, and one to get \"It must be a car.\" "
   ]
  },
  {
   "cell_type": "code",
   "execution_count": 5,
   "metadata": {
    "collapsed": false
   },
   "outputs": [],
   "source": [
    "wheels = 4\n",
    "\n",
    "if wheels == : # <-- This is the line that needs to be completed.\n",
    "    print(\"We're riding on a motorcycle!\") \n",
    "else:\n",
    "    print(\"It must be a car.\")"
   ]
  },
  {
   "cell_type": "markdown",
   "metadata": {
    "collapsed": true
   },
   "source": [
    "Now try writing your own if-else statement with a variable. (Use the one above as an example if you need to.) Here are the steps to follow:\n",
    "- Create a variable called 'game' and set it to \"win\"\n",
    "- Write code that prints \"Go team!\" when the variable 'game' is set to 'win'. The code should print 'We'll do better next time.' otherwise. \n",
    "- Change the variable you started with so that the if-else statement prints something else."
   ]
  },
  {
   "cell_type": "code",
   "execution_count": null,
   "metadata": {
    "collapsed": true
   },
   "outputs": [],
   "source": [
    "# Type your code here!\n"
   ]
  },
  {
   "cell_type": "markdown",
   "metadata": {},
   "source": [
    "**Adding elif:** We'll expand the examples above to review if-elif-else statements."
   ]
  },
  {
   "cell_type": "code",
   "execution_count": 14,
   "metadata": {
    "collapsed": false
   },
   "outputs": [],
   "source": [
    "# How should we complete the elif part of the code below?\n",
    "wheels = 4\n",
    "\n",
    "if wheels < 3: \n",
    "    print(\"We're riding on a motorcycle, or a bike, or a unicycle!\")\n",
    "elif : # <-- Add your code here! \n",
    "    print(\"Is that a tricycle!?\")\n",
    "else:\n",
    "    print(\"It must be a car.\") "
   ]
  },
  {
   "cell_type": "markdown",
   "metadata": {},
   "source": [
    "Now add an elif statement to your code for the variable 'game' above to print something new when the variable is set to \"tie\". Check that all three parts of the if-elif-else statement work. "
   ]
  },
  {
   "cell_type": "markdown",
   "metadata": {},
   "source": [
    "**Booleans**"
   ]
  },
  {
   "cell_type": "code",
   "execution_count": 17,
   "metadata": {
    "collapsed": false
   },
   "outputs": [],
   "source": [
    "# What word can we add somewhere in this code to print the opposite result?\n",
    "print('apple' in 'My favorite fruit to eat is an orange.')"
   ]
  },
  {
   "cell_type": "code",
   "execution_count": 21,
   "metadata": {
    "collapsed": false
   },
   "outputs": [],
   "source": [
    "# What should the variabe 'exercise' be set to in order to print \"Don't forget to drink water!\"\n",
    "# Also, what should we add to the second print command for it to make sense? Run the code to see if both conditions work.\n",
    "exercise = \n",
    "\n",
    "if exercise == True:\n",
    "    print(\"Don't forget to drink water!\")\n",
    "else:\n",
    "    print()"
   ]
  }
 ],
 "metadata": {
  "kernelspec": {
   "display_name": "Python 3",
   "language": "python",
   "name": "python3"
  },
  "language_info": {
   "codemirror_mode": {
    "name": "ipython",
    "version": 3
   },
   "file_extension": ".py",
   "mimetype": "text/x-python",
   "name": "python",
   "nbconvert_exporter": "python",
   "pygments_lexer": "ipython3",
   "version": "3.6.0"
  }
 },
 "nbformat": 4,
 "nbformat_minor": 2
}
