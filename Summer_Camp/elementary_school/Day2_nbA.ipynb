{
 "cells": [
  {
   "cell_type": "markdown",
   "metadata": {},
   "source": [
    "# Putting It All Together\n",
    "\n",
    "We're going to start today by taking yesterday's Python skills to the next level. That is, we're going to work on using variables, math operations and printing all together. To start, we'll work with a few variables that are created for you."
   ]
  },
  {
   "cell_type": "code",
   "execution_count": null,
   "metadata": {
    "collapsed": true
   },
   "outputs": [],
   "source": [
    "apples = 5\n",
    "bananas = 7\n",
    "oranges = 2\n",
    "\n",
    "# Compute the sum of all three fruits using the variables. \n"
   ]
  },
  {
   "cell_type": "code",
   "execution_count": null,
   "metadata": {
    "collapsed": true
   },
   "outputs": [],
   "source": [
    "# Store the sum in a new variable call \"fruits\" and print it. (You'll use two lines of code.)\n",
    "\n"
   ]
  },
  {
   "cell_type": "markdown",
   "metadata": {},
   "source": [
    "Great! Now for some challenge steps:\n",
    "\n",
    "1. Change the numbers in the variables above so that the cell above outputs the number 30. \n",
    "2. Change the numbers in the variables above so that the cell above outputs the number 49. "
   ]
  },
  {
   "cell_type": "markdown",
   "metadata": {},
   "source": [
    "Okay, now let's take a closer look at printing. Remember that the print function can handle both words and numbers (and that you have to use quotation marks for words!). To start, make up a fun sentence that uses both words and numbers. "
   ]
  },
  {
   "cell_type": "code",
   "execution_count": null,
   "metadata": {
    "collapsed": true
   },
   "outputs": [],
   "source": [
    "# Create a sentence that uses numbers and letters and print it.\n"
   ]
  },
  {
   "cell_type": "code",
   "execution_count": null,
   "metadata": {
    "collapsed": true
   },
   "outputs": [],
   "source": [
    "# Now split that sentence into 4 different pieces, and set each one equal to a variable. \n",
    "\n",
    "\n",
    "\n",
    "\n",
    "\n",
    "# Use the print function and the variables to get the same result you got in the cell above. \n"
   ]
  },
  {
   "cell_type": "markdown",
   "metadata": {},
   "source": [
    "Nice work! We're going to take a closer look at how Python handles numbers with variables now. Remember that we can perform math operations in Python by using numbers or the variables we set them to. Start by choosing a 3-digit number and print it below."
   ]
  },
  {
   "cell_type": "code",
   "execution_count": null,
   "metadata": {
    "collapsed": true
   },
   "outputs": [],
   "source": [
    "# Print your number here. \n"
   ]
  },
  {
   "cell_type": "code",
   "execution_count": null,
   "metadata": {
    "collapsed": true
   },
   "outputs": [],
   "source": [
    "# Write a subtraction statement inside a print function to get the same result you got above. \n",
    "# For example: print(155 - 23) gives the same result as print(132). \n"
   ]
  },
  {
   "cell_type": "code",
   "execution_count": null,
   "metadata": {
    "collapsed": true
   },
   "outputs": [],
   "source": [
    "# Now set your two numbers from the subtraction statement to variables. \n",
    "\n",
    "\n",
    "\n",
    "# Use the print function and the variables to get the 3-digit number you started with. \n"
   ]
  },
  {
   "cell_type": "code",
   "execution_count": null,
   "metadata": {
    "collapsed": true
   },
   "outputs": [],
   "source": []
  },
  {
   "cell_type": "code",
   "execution_count": null,
   "metadata": {
    "collapsed": true
   },
   "outputs": [],
   "source": [
    "#import package, use numpy.max a few times w/ ops, print, vars"
   ]
  },
  {
   "cell_type": "code",
   "execution_count": null,
   "metadata": {
    "collapsed": true
   },
   "outputs": [],
   "source": []
  }
 ],
 "metadata": {
  "kernelspec": {
   "display_name": "Python 3",
   "language": "python",
   "name": "python3"
  },
  "language_info": {
   "codemirror_mode": {
    "name": "ipython",
    "version": 3
   },
   "file_extension": ".py",
   "mimetype": "text/x-python",
   "name": "python",
   "nbconvert_exporter": "python",
   "pygments_lexer": "ipython3",
   "version": "3.6.0"
  }
 },
 "nbformat": 4,
 "nbformat_minor": 2
}
