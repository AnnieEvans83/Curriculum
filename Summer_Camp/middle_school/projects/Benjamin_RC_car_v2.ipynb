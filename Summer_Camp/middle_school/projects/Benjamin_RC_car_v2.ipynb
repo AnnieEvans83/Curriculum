{
 "cells": [
  {
   "cell_type": "code",
   "execution_count": 1,
   "metadata": {
    "collapsed": false
   },
   "outputs": [],
   "source": [
    "import tkinter\n",
    "from tkinter import Frame"
   ]
  },
  {
   "cell_type": "code",
   "execution_count": 2,
   "metadata": {
    "collapsed": true
   },
   "outputs": [],
   "source": [
    "def main():\n",
    "    root = tkinter.Tk()\n",
    "    frame = Frame(root, width=100, height=100)\n",
    "    frame.bind(\"<Key>\", key)\n",
    "    frame.focus_set()\n",
    "    frame.pack()\n",
    "\n",
    "    root.mainloop()"
   ]
  },
  {
   "cell_type": "code",
   "execution_count": 3,
   "metadata": {
    "collapsed": true
   },
   "outputs": [],
   "source": [
    "def key(event):\n",
    "    print(\"pressed\", repr(event.char))"
   ]
  },
  {
   "cell_type": "code",
   "execution_count": 4,
   "metadata": {
    "collapsed": false
   },
   "outputs": [
    {
     "name": "stdout",
     "output_type": "stream",
     "text": [
      "pressed 's'\n",
      "pressed 'a'\n",
      "pressed 'w'\n",
      "pressed 'e'\n",
      "pressed 's'\n",
      "pressed 'd'\n",
      "pressed 'a'\n",
      "pressed 'w'\n",
      "pressed 'd'\n",
      "pressed 'w'\n",
      "pressed 'a'\n",
      "pressed 's'\n",
      "pressed 'd'\n",
      "pressed 's'\n",
      "pressed 'w'\n",
      "pressed 'a'\n",
      "pressed 'd'\n",
      "pressed 's'\n",
      "pressed 'd'\n",
      "pressed 'a'\n",
      "pressed 'w'\n",
      "pressed 'd'\n"
     ]
    }
   ],
   "source": [
    "main()"
   ]
  },
  {
   "cell_type": "code",
   "execution_count": null,
   "metadata": {
    "collapsed": false
   },
   "outputs": [],
   "source": [
    "python get-pip.py"
   ]
  },
  {
   "cell_type": "code",
   "execution_count": null,
   "metadata": {
    "collapsed": true
   },
   "outputs": [],
   "source": []
  }
 ],
 "metadata": {
  "kernelspec": {
   "display_name": "Python 3",
   "language": "python",
   "name": "python3"
  },
  "language_info": {
   "codemirror_mode": {
    "name": "ipython",
    "version": 3
   },
   "file_extension": ".py",
   "mimetype": "text/x-python",
   "name": "python",
   "nbconvert_exporter": "python",
   "pygments_lexer": "ipython3",
   "version": "3.6.0"
  }
 },
 "nbformat": 4,
 "nbformat_minor": 2
}
