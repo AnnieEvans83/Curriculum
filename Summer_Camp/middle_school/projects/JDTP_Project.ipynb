{
 "cells": [
  {
   "cell_type": "markdown",
   "metadata": {},
   "source": [
    "### JDTP Project\n"
   ]
  },
  {
   "cell_type": "markdown",
   "metadata": {},
   "source": [
    "### How we built it"
   ]
  },
  {
   "cell_type": "markdown",
   "metadata": {},
   "source": [
    "### Day 1\n",
    "* Project plan\n",
    "* Robot physical design\n",
    "* Eletrical enginnering (wiring the pi)"
   ]
  },
  {
   "cell_type": "markdown",
   "metadata": {},
   "source": [
    "![](images/day1.JPG)\n",
    "![](images/day1_2.JPG) \n"
   ]
  },
  {
   "cell_type": "markdown",
   "metadata": {},
   "source": [
    "### Day 2\n",
    "* Finish hardware (wiring screen and connecting camera)\n",
    "* Software"
   ]
  },
  {
   "cell_type": "markdown",
   "metadata": {},
   "source": [
    "![](images/day2.JPG)\n",
    "![](images/day2_2.JPG)"
   ]
  },
  {
   "cell_type": "markdown",
   "metadata": {},
   "source": [
    "### Day 3\n",
    "* Build JDTP\n",
    "* Software development and test"
   ]
  },
  {
   "cell_type": "markdown",
   "metadata": {},
   "source": [
    "![](images/day3.JPG)\n",
    "![](images/day3_2.JPG)\n",
    "![](images/day3_3.JPG)"
   ]
  },
  {
   "cell_type": "markdown",
   "metadata": {},
   "source": [
    "### JDTP Skeaking"
   ]
  },
  {
   "cell_type": "code",
   "execution_count": null,
   "metadata": {
    "collapsed": true
   },
   "outputs": [],
   "source": [
    "text = 'Hello, my name is JDTP 2 5 3 6. My creators are: Tiana, Diya and Pragna. They are awesome humans!'"
   ]
  },
  {
   "cell_type": "code",
   "execution_count": null,
   "metadata": {
    "collapsed": true
   },
   "outputs": [],
   "source": [
    "from gtts import gTTS # google text to speak library\n",
    "import os\n",
    "jdtp_speak = gTTS(text=text, lang='en') # telling our robot what to speak\n",
    "jdtp_speak.save(\"talk.mp3\") # saving file\n",
    "os.system(\"mpg321 talk.mp3\") # running a linux command trough Python"
   ]
  }
 ],
 "metadata": {
  "kernelspec": {
   "display_name": "Python 3",
   "language": "python",
   "name": "python3"
  },
  "language_info": {
   "codemirror_mode": {
    "name": "ipython",
    "version": 3
   },
   "file_extension": ".py",
   "mimetype": "text/x-python",
   "name": "python",
   "nbconvert_exporter": "python",
   "pygments_lexer": "ipython3",
   "version": "3.6.0"
  }
 },
 "nbformat": 4,
 "nbformat_minor": 2
}
