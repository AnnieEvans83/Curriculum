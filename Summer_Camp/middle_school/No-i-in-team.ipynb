{
 "cells": [
  {
   "cell_type": "markdown",
   "metadata": {},
   "source": [
    "Today is a short lesson, so we are going to talk about a Python function that has come up once or twice but we have overlooked."
   ]
  },
  {
   "cell_type": "markdown",
   "metadata": {},
   "source": [
    "## <b>- in -</b>"
   ]
  },
  {
   "cell_type": "markdown",
   "metadata": {},
   "source": [
    "# You try"
   ]
  },
  {
   "cell_type": "code",
   "execution_count": null,
   "metadata": {
    "collapsed": true
   },
   "outputs": [],
   "source": [
    "print(\"butter\" in \"butterfly\")\n",
    "print(\"i\" in \"team\")\n",
    "print(\"arat\" in \"separate\")"
   ]
  },
  {
   "cell_type": "markdown",
   "metadata": {},
   "source": [
    "What do you think <b>in</b> does in the print statements above?"
   ]
  },
  {
   "cell_type": "code",
   "execution_count": null,
   "metadata": {
    "collapsed": true
   },
   "outputs": [],
   "source": [
    "wizards = [\"Hermione\", \"Snape\", \"Dobby\"]\n",
    "\n",
    "print(\"Hermione\" in wizards)\n",
    "print(\"Voldemort\" in wizards)\n",
    "print(\"nap\" in wizards)"
   ]
  },
  {
   "cell_type": "markdown",
   "metadata": {},
   "source": [
    "What do you think <b>in</b> does in the print statements above?"
   ]
  },
  {
   "cell_type": "markdown",
   "metadata": {},
   "source": [
    "Why does the third print statement about the wizards print False instead of True?"
   ]
  },
  {
   "cell_type": "code",
   "execution_count": null,
   "metadata": {
    "collapsed": true
   },
   "outputs": [],
   "source": [
    "patronuses = {'Ginny': 'Horse', 'Luna': 'Hare', 'Albus': 'Phoenix'}\n",
    "\n",
    "print(\"Ginny\" in patronuses)\n",
    "print(\"Phoenix\" in patronuses)\n",
    "print(\"bus\" in patronuses)\n",
    "print(\"Har\" in patronuses)"
   ]
  },
  {
   "cell_type": "markdown",
   "metadata": {},
   "source": [
    "What do you think <b>in</b> does in the print statements above?\n",
    "\n",
    "your answer here:\n",
    "    "
   ]
  },
  {
   "cell_type": "markdown",
   "metadata": {},
   "source": [
    "# Telling the cars what to do"
   ]
  },
  {
   "cell_type": "code",
   "execution_count": null,
   "metadata": {
    "collapsed": true
   },
   "outputs": [],
   "source": [
    "import car\n",
    "\n",
    "command = input(\"What should I do? \")\n",
    "if command == \"forward\":\n",
    "    car.forward(0.3)\n",
    "elif command == \"right\":\n",
    "    car.right(0.3)\n",
    "#Etc."
   ]
  },
  {
   "cell_type": "markdown",
   "metadata": {},
   "source": [
    "Finish the code above and test it three times."
   ]
  },
  {
   "cell_type": "markdown",
   "metadata": {},
   "source": [
    "Now, test it with the input <i>Please go forward</i>\n",
    "\n",
    "How can we use <b>in</b> to change the code to allow <i>Please go forward</i> to work?"
   ]
  },
  {
   "cell_type": "markdown",
   "metadata": {},
   "source": [
    "# Bonus"
   ]
  },
  {
   "cell_type": "code",
   "execution_count": null,
   "metadata": {
    "collapsed": true
   },
   "outputs": [],
   "source": [
    "sentence = \"This is an example sentence\"\n",
    "words = sentence.split()\n",
    "print(words)"
   ]
  },
  {
   "cell_type": "markdown",
   "metadata": {},
   "source": [
    "What do you think sentence.split() does?\n",
    "\n",
    "Your answer here:"
   ]
  },
  {
   "cell_type": "markdown",
   "metadata": {},
   "source": [
    "Test your car code with the input <i>It's too bright - turn left</i>\n",
    "\n",
    "How can we use <b>in</b> together with <b>split()</b> to solve this?"
   ]
  }
 ],
 "metadata": {
  "anaconda-cloud": {},
  "kernelspec": {
   "display_name": "Python [default]",
   "language": "python",
   "name": "python2"
  },
  "language_info": {
   "codemirror_mode": {
    "name": "ipython",
    "version": 2
   },
   "file_extension": ".py",
   "mimetype": "text/x-python",
   "name": "python",
   "nbconvert_exporter": "python",
   "pygments_lexer": "ipython2",
   "version": "2.7.12"
  }
 },
 "nbformat": 4,
 "nbformat_minor": 1
}
