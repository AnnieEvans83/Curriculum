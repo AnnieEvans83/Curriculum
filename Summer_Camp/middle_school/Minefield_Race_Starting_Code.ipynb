{
 "cells": [
  {
   "cell_type": "code",
   "execution_count": null,
   "metadata": {
    "collapsed": true
   },
   "outputs": [],
   "source": [
    "import car"
   ]
  },
  {
   "cell_type": "code",
   "execution_count": null,
   "metadata": {
    "collapsed": true
   },
   "outputs": [],
   "source": [
    "car_can_keep_moving = True # We are not making this False anywhere, so use kernel - restart and clear, to stop the loop\n",
    "\n",
    "while car_can_keep_moving:\n",
    "\n",
    "    # capturing a frame\n",
    "    frame = car.capture()\n",
    "\n",
    "    # detecting stop signs\n",
    "    stop_signs = car.detect_stop_signs(frame)\n",
    "    sign_size = car.object_size(stop_signs, frame.shape)\n",
    "    car.stream(frame) # this line only for newest cars  \n",
    "\n",
    "    # if stop signs are close enough the car will pause\n",
    "    if sign_size > 0.01:\n",
    "        car.pause(4)\n",
    "\n",
    "    # detecting and avoiding pedestrians\n",
    "    pedestrian = car.detect_pedestrians(frame)\n",
    "    location = car.object_location(pedestrian, frame.shape)\n",
    "    car.stream(frame)\n",
    "\n",
    "    if location == 'frame_left':\n",
    "        car.right(0.3)\n",
    "        car.forward(0.3)\n",
    "    elif location == 'frame_right':\n",
    "        car.left(0.3)\n",
    "        car.forward(0.3)\n",
    "    elif location == 'frame_center':\n",
    "        car.reverse(0.2)\n",
    "        car.right(0.3)\n",
    "    else:\n",
    "        car.forward(0.3)\n",
    "\n",
    "car.plot(frame)"
   ]
  }
 ],
 "metadata": {
  "kernelspec": {
   "display_name": "Python 3",
   "language": "python",
   "name": "python3"
  },
  "language_info": {
   "codemirror_mode": {
    "name": "ipython",
    "version": 3
   },
   "file_extension": ".py",
   "mimetype": "text/x-python",
   "name": "python",
   "nbconvert_exporter": "python",
   "pygments_lexer": "ipython3",
   "version": "3.6.0"
  }
 },
 "nbformat": 4,
 "nbformat_minor": 2
}
