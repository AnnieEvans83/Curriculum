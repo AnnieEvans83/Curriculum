{
 "cells": [
  {
   "cell_type": "markdown",
   "metadata": {},
   "source": [
    "## Python Dictionaries"
   ]
  },
  {
   "cell_type": "markdown",
   "metadata": {},
   "source": [
    "A dictionary is a collection of pairs. Each pair is composed of a \"key\" and a \"value\"."
   ]
  },
  {
   "cell_type": "markdown",
   "metadata": {},
   "source": [
    "For example the keys ```[0, 1, 2]```  can be maped to the values ```['Honda Civic', 'Ferrari', 'Mustang']```  \n",
    "as follows:"
   ]
  },
  {
   "cell_type": "markdown",
   "metadata": {},
   "source": [
    "### Creating Dictionaries"
   ]
  },
  {
   "cell_type": "code",
   "execution_count": null,
   "metadata": {
    "collapsed": true
   },
   "outputs": [],
   "source": [
    "my_map = {0: 'Honda Civic', 1: 'Ferrari', 2: 'Mustang'}"
   ]
  },
  {
   "cell_type": "markdown",
   "metadata": {},
   "source": [
    "__Your Turn__: What __my_map[0]__ will return? Guess before running the cell below."
   ]
  },
  {
   "cell_type": "code",
   "execution_count": null,
   "metadata": {
    "collapsed": false
   },
   "outputs": [],
   "source": [
    "print(my_map[0])"
   ]
  },
  {
   "cell_type": "markdown",
   "metadata": {},
   "source": [
    "### Comparing Dictionaries to Lists"
   ]
  },
  {
   "cell_type": "markdown",
   "metadata": {},
   "source": [
    "So now we can see, for example, what value is maped to key 1 in a similar way as if we had a list:"
   ]
  },
  {
   "cell_type": "code",
   "execution_count": null,
   "metadata": {
    "collapsed": true
   },
   "outputs": [],
   "source": [
    "my_list = ['Honda Civic', 'Ferrari', 'Mustang']"
   ]
  },
  {
   "cell_type": "code",
   "execution_count": null,
   "metadata": {
    "collapsed": false
   },
   "outputs": [],
   "source": [
    "print(my_list[0])"
   ]
  },
  {
   "cell_type": "markdown",
   "metadata": {},
   "source": [
    "#### However, dictionaries can have non-numeric keys, which makes them different from lists."
   ]
  },
  {
   "cell_type": "code",
   "execution_count": null,
   "metadata": {
    "collapsed": true
   },
   "outputs": [],
   "source": [
    "cars = {'car one': 'Honda Civic', 'car two': 'Ferrari', 'car three': 'Mustang'}"
   ]
  },
  {
   "cell_type": "markdown",
   "metadata": {},
   "source": [
    "__Your Turn__: How do we print the first value of __cars__ in this case? Try it out!"
   ]
  },
  {
   "cell_type": "code",
   "execution_count": null,
   "metadata": {
    "collapsed": true
   },
   "outputs": [],
   "source": [
    "# Your code here\n"
   ]
  },
  {
   "cell_type": "markdown",
   "metadata": {},
   "source": [
    "### Adding Key-Value Pairs to a Dictionary "
   ]
  },
  {
   "cell_type": "code",
   "execution_count": null,
   "metadata": {
    "collapsed": true
   },
   "outputs": [],
   "source": [
    "cars['another car'] = 'Corvette'"
   ]
  },
  {
   "cell_type": "code",
   "execution_count": null,
   "metadata": {
    "collapsed": false
   },
   "outputs": [],
   "source": [
    "print(cars)"
   ]
  },
  {
   "cell_type": "markdown",
   "metadata": {},
   "source": [
    "__Your Turn__: Add another __key-value__ pair to the dictionary __cars__"
   ]
  },
  {
   "cell_type": "code",
   "execution_count": null,
   "metadata": {
    "collapsed": true
   },
   "outputs": [],
   "source": [
    "# your code here\n",
    "\n",
    "\n",
    "print(cars)"
   ]
  },
  {
   "cell_type": "markdown",
   "metadata": {},
   "source": [
    "__Excercise :__ Add another __key-value__ pair to the __rentals__ dictionary and print it."
   ]
  },
  {
   "cell_type": "code",
   "execution_count": null,
   "metadata": {
    "collapsed": true
   },
   "outputs": [],
   "source": [
    "rentals = {\n",
    "    \"Honda Civic\": \"Nice choice, enjoy your Honda Civic\",\n",
    "    \"Ferrari\": \"Great!! It will cost only all your money...\",\n",
    "    \"Mustang\": \"Oh Yeah!! You will have a fun time!!\",\n",
    "    \"Other\": \"Sorry we don't have that. Will just give you something that moves\"    \n",
    "}"
   ]
  },
  {
   "cell_type": "code",
   "execution_count": null,
   "metadata": {
    "collapsed": true
   },
   "outputs": [],
   "source": [
    "# your code here\n",
    "\n"
   ]
  },
  {
   "cell_type": "markdown",
   "metadata": {},
   "source": [
    "### Lab: Pedestrians need Maps "
   ]
  },
  {
   "cell_type": "markdown",
   "metadata": {},
   "source": [
    "Btw, dictionaries are called maps in other languages"
   ]
  },
  {
   "cell_type": "markdown",
   "metadata": {},
   "source": [
    "Do you remember how we created the code for pedestrian detection and avoidance? Well it is right here if you don't  "
   ]
  },
  {
   "cell_type": "markdown",
   "metadata": {},
   "source": [
    "__Your Turn__: Run the code below and test with the figurines"
   ]
  },
  {
   "cell_type": "code",
   "execution_count": null,
   "metadata": {
    "collapsed": true
   },
   "outputs": [],
   "source": [
    "import car"
   ]
  },
  {
   "cell_type": "code",
   "execution_count": null,
   "metadata": {
    "collapsed": true
   },
   "outputs": [],
   "source": [
    "# Capturing a Frame\n",
    "frame = car.capture()\n",
    "\n",
    "# Detecting pedestrians and its location \n",
    "pedestrians = car.detect_pedestrians(frame)\n",
    "location = car.object_location(pedestrians, frame.shape)\n",
    "\n",
    "# Avoinding pedestrians based on its location\n",
    "if location == 'frame_left':\n",
    "    car.right(0.3)\n",
    "    \n",
    "elif location == 'frame_right':\n",
    "    car.left(0.3)\n",
    "    \n",
    "elif location == 'frame_center':\n",
    "    car.reverse(0.3) # just so we see some action\n",
    "    \n",
    "else: # no pedestrians detected\n",
    "    car.forward(0.3)\n",
    "    \n",
    "car.plot(frame)"
   ]
  },
  {
   "cell_type": "markdown",
   "metadata": {},
   "source": [
    "__Excercise__: Create a new pedestrian detection / avoidance procedure using __dictionaries__ instead of __if-else statements__"
   ]
  },
  {
   "cell_type": "code",
   "execution_count": null,
   "metadata": {
    "collapsed": true
   },
   "outputs": [],
   "source": [
    "# Capturing a Frame\n",
    "frame = car.capture()\n",
    "\n",
    "# Detecting pedestrians and its location \n",
    "pedestrians = car.detect_pedestrians(frame)\n",
    "location = car.object_location(pedestrians, frame.shape) # this function returns None if no pedestrians were detected\n",
    "\n",
    "# Complete the dictionary below \n",
    "\n",
    "reactions = {\n",
    "    'frame_center': car.reverse, \n",
    "    \n",
    "}\n",
    "\n",
    "command = reactions[location]   # use the dictionary to select a car function depending on the pedestrian location\n",
    "command(1.0)                    # invoke the correct function "
   ]
  },
  {
   "cell_type": "markdown",
   "metadata": {},
   "source": [
    "__Excercise__: Place your code inside a while loop so that the car keeps scanning for pedestrians"
   ]
  },
  {
   "cell_type": "markdown",
   "metadata": {},
   "source": [
    "__Extra__: Create / define a function pedestrian_avoidace() for your code above "
   ]
  },
  {
   "cell_type": "code",
   "execution_count": null,
   "metadata": {
    "collapsed": true
   },
   "outputs": [],
   "source": []
  }
 ],
 "metadata": {
  "anaconda-cloud": {},
  "kernelspec": {
   "display_name": "Python 3",
   "language": "python",
   "name": "python3"
  },
  "language_info": {
   "codemirror_mode": {
    "name": "ipython",
    "version": 3
   },
   "file_extension": ".py",
   "mimetype": "text/x-python",
   "name": "python",
   "nbconvert_exporter": "python",
   "pygments_lexer": "ipython3",
   "version": "3.6.0"
  }
 },
 "nbformat": 4,
 "nbformat_minor": 1
}
