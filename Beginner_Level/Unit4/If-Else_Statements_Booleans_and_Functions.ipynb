{
 "cells": [
  {
   "cell_type": "markdown",
   "metadata": {},
   "source": [
    "## 1. If-Else Statements "
   ]
  },
  {
   "cell_type": "code",
   "execution_count": null,
   "metadata": {
    "collapsed": false
   },
   "outputs": [],
   "source": [
    "age = 1\n",
    "if age < 2:\n",
    "    print('You are too young, my friend!')"
   ]
  },
  {
   "cell_type": "markdown",
   "metadata": {},
   "source": [
    "**an _if_ statement has three parts:**\n",
    "\n",
    "1. the keyword 'if',\n",
    "\n",
    "2. the conditional statement (for example `age < 2` in the example above), and\n",
    "\n",
    "3. a block of indented code which runs **only if** the conditional statement is **True**."
   ]
  },
  {
   "cell_type": "markdown",
   "metadata": {},
   "source": [
    "__Your Turn:__ Add a command to the code below and run the code.  \n",
    "After that, try changing the condition."
   ]
  },
  {
   "cell_type": "code",
   "execution_count": null,
   "metadata": {
    "collapsed": false
   },
   "outputs": [],
   "source": [
    "age = 13 \n",
    "if age > 2:\n",
    "    # your code goes here!"
   ]
  },
  {
   "cell_type": "markdown",
   "metadata": {},
   "source": [
    "What if the _if_ condition is False? We can add more options."
   ]
  },
  {
   "cell_type": "markdown",
   "metadata": {
    "collapsed": true
   },
   "source": [
    "![](../images/if_else_flow.png)"
   ]
  },
  {
   "cell_type": "code",
   "execution_count": null,
   "metadata": {
    "collapsed": false
   },
   "outputs": [],
   "source": [
    "# Experiment with x and y values to make each of the three conditions below True one-at-a-time.\n",
    "x = ?\n",
    "y = ?\n",
    "\n",
    "if x < y:\n",
    "    print('Hah! x is smaller than y')\n",
    "    \n",
    "elif x > y:\n",
    "    print(x * y)\n",
    "    \n",
    "else:\n",
    "    print(x - y)"
   ]
  },
  {
   "cell_type": "markdown",
   "metadata": {},
   "source": [
    "__Your Turn:__ In which statement above is the condition x = y is True?  \n",
    "What is the purpose of having an _else_ block?"
   ]
  },
  {
   "cell_type": "code",
   "execution_count": null,
   "metadata": {
    "collapsed": true
   },
   "outputs": [],
   "source": [
    "# What car would you like to rent today?\n",
    "\n",
    "car = input(\"What car would you like to rent? \")\n",
    "\n",
    "if car == \"Honda Civic\":\n",
    "    print(\"Nice choice, enjoy your Honda Civic.\")\n",
    "    \n",
    "elif car == \"Ferrari\":\n",
    "    print(\"Great!! It will cost only all your money...\")\n",
    "    \n",
    "elif car == \"Mustang\":\n",
    "    print(\"Oh Yeah!! You will have a fun time!!\")\n",
    "    \n",
    "else:\n",
    "    print(\"Sorry we don't have that. We'll just give you something that moves.\")"
   ]
  },
  {
   "cell_type": "markdown",
   "metadata": {},
   "source": [
    "__Your Turn:__ Write a different condition for the first \"elif\" and test it.  \n",
    "What conditions \"else\" statement is covering this time?"
   ]
  },
  {
   "cell_type": "markdown",
   "metadata": {},
   "source": [
    "## 2. Booleans"
   ]
  },
  {
   "cell_type": "markdown",
   "metadata": {},
   "source": [
    "They are used for:    \n",
    "1. Assigning a variable as True or False\n",
    "2. Testing if something is True or False"
   ]
  },
  {
   "cell_type": "code",
   "execution_count": null,
   "metadata": {
    "collapsed": true
   },
   "outputs": [],
   "source": [
    "# Have you had a birthday this year? True or False\n",
    "birthday_this_year = ?\n",
    "\n",
    "# In which year you were born?\n",
    "birthyear = ?\n",
    "current_year = 2017\n",
    "\n",
    "# Age calculation:\n",
    "age = current_year - birthyear\n",
    "if birthday_this_year == False:\n",
    "    age -= 1\n",
    "\n",
    "print(\"You are {} years old!\".format(age))"
   ]
  },
  {
   "cell_type": "markdown",
   "metadata": {},
   "source": [
    "Note that in the code above we used booleans in both ways.\n",
    "1. We assigned True or False to the variable `birthday_this_year`.\n",
    "2. We tested __if__ `birthday_this_year == Fase` was __True__."
   ]
  },
  {
   "cell_type": "markdown",
   "metadata": {},
   "source": [
    "__Your Turn__: Create an __if__-__else__ statement that uses True or False (anything you want).  \n",
    "Write a command for the block below it."
   ]
  },
  {
   "cell_type": "code",
   "execution_count": null,
   "metadata": {
    "collapsed": true
   },
   "outputs": [],
   "source": [
    "# Write your code here!"
   ]
  },
  {
   "cell_type": "markdown",
   "metadata": {},
   "source": [
    "## 3. Functions  "
   ]
  },
  {
   "cell_type": "markdown",
   "metadata": {},
   "source": [
    "Do you remember functions in mathematics? Programing languages have functions too!!"
   ]
  },
  {
   "cell_type": "code",
   "execution_count": null,
   "metadata": {
    "collapsed": true
   },
   "outputs": [],
   "source": [
    "# What value are we going to output here?\n",
    "x = 3\n",
    "y = 2*x\n",
    "print(y)"
   ]
  },
  {
   "cell_type": "markdown",
   "metadata": {},
   "source": [
    "Can we create a Python function with that same \"rule\" $y = 2*x$ ? "
   ]
  },
  {
   "cell_type": "code",
   "execution_count": null,
   "metadata": {
    "collapsed": true
   },
   "outputs": [],
   "source": [
    "def my_function(x):\n",
    "    return 2*x       # <-- this is the same as y = 2*x"
   ]
  },
  {
   "cell_type": "code",
   "execution_count": null,
   "metadata": {
    "collapsed": true
   },
   "outputs": [],
   "source": [
    "y = my_function(x)"
   ]
  },
  {
   "cell_type": "markdown",
   "metadata": {},
   "source": [
    "__Your Turn__: Change the code inside the function to implement a different equation.  \n",
    "What should the result be now? How to tested your function thoroughly?."
   ]
  },
  {
   "cell_type": "markdown",
   "metadata": {},
   "source": [
    "__Exercise__: "
   ]
  },
  {
   "cell_type": "markdown",
   "metadata": {},
   "source": [
    " Let's create a __new cell__ below and inside it create a __function__ for our car rental options above. "
   ]
  }
 ],
 "metadata": {
  "kernelspec": {
   "display_name": "Python 3",
   "language": "python",
   "name": "python3"
  },
  "language_info": {
   "codemirror_mode": {
    "name": "ipython",
    "version": 3
   },
   "file_extension": ".py",
   "mimetype": "text/x-python",
   "name": "python",
   "nbconvert_exporter": "python",
   "pygments_lexer": "ipython3",
   "version": "3.5.2"
  }
 },
 "nbformat": 4,
 "nbformat_minor": 2
}
