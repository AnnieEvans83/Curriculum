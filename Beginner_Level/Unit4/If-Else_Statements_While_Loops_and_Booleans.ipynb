{
 "cells": [
  {
   "cell_type": "markdown",
   "metadata": {},
   "source": [
    "## 1. If-Else Statements "
   ]
  },
  {
   "cell_type": "code",
   "execution_count": null,
   "metadata": {
    "collapsed": false
   },
   "outputs": [],
   "source": [
    "age = 1\n",
    "if age < 2:\n",
    "    print('You are too young, my friend!')"
   ]
  },
  {
   "cell_type": "markdown",
   "metadata": {},
   "source": [
    "**an _if_ statement has three parts:**\n",
    "\n",
    "1. the keyword 'if',\n",
    "\n",
    "2. the conditional statement (for example `age < 2` in the example above), and\n",
    "\n",
    "3. a block of indented code which runs **only if** the conditional statement is **True**."
   ]
  },
  {
   "cell_type": "markdown",
   "metadata": {},
   "source": [
    "__Your Turn:__ Add a command to the code below and run the code.  \n",
    "After that, try changing the condition."
   ]
  },
  {
   "cell_type": "code",
   "execution_count": null,
   "metadata": {
    "collapsed": false
   },
   "outputs": [],
   "source": [
    "age = 13 \n",
    "if age > 2:\n",
    "    # your code goes here!"
   ]
  },
  {
   "cell_type": "markdown",
   "metadata": {},
   "source": [
    "What if the _if_ condition is False? We can add more options."
   ]
  },
  {
   "cell_type": "markdown",
   "metadata": {
    "collapsed": true
   },
   "source": [
    "![](../images/if_else_flow.png)"
   ]
  },
  {
   "cell_type": "code",
   "execution_count": null,
   "metadata": {
    "collapsed": false
   },
   "outputs": [],
   "source": [
    "# Experiment with x and y values to make each of the three conditions below True one-at-a-time.\n",
    "x = ?\n",
    "y = ?\n",
    "\n",
    "if x < y:\n",
    "    print('Hah! x is smaller than y')\n",
    "    \n",
    "elif x > y:\n",
    "    print(x * y)\n",
    "    \n",
    "else:\n",
    "    print(x - y)"
   ]
  },
  {
   "cell_type": "markdown",
   "metadata": {},
   "source": [
    "__Your Turn:__ In which statement above is the condition x = y is True?  \n",
    "What is the purpose of having an _else_ block?"
   ]
  },
  {
   "cell_type": "code",
   "execution_count": null,
   "metadata": {
    "collapsed": true
   },
   "outputs": [],
   "source": [
    "# What car would you like to rent today?\n",
    "\n",
    "car = input(\"What car would you like to rent? \")\n",
    "\n",
    "if car == \"Honda Civic\":\n",
    "    print(\"Nice choice, enjoy your Honda Civic.\")\n",
    "    \n",
    "elif car == \"Ferrari\":\n",
    "    print(\"Great!! It will cost only all your money...\")\n",
    "    \n",
    "elif car == \"Mustang\":\n",
    "    print(\"Oh Yeah!! You will have a fun time!!\")\n",
    "    \n",
    "else:\n",
    "    print(\"Sorry we don't have that. We'll just give you something that moves.\")"
   ]
  },
  {
   "cell_type": "markdown",
   "metadata": {},
   "source": [
    "__Your Turn:__ Write a different condition for the first \"elif\" and test it.  \n",
    "What conditions \"else\" statement is covering this time?"
   ]
  },
  {
   "cell_type": "markdown",
   "metadata": {},
   "source": [
    "## 2. While _Loops_"
   ]
  },
  {
   "cell_type": "markdown",
   "metadata": {},
   "source": [
    "While and For loops are pretty similar,  \n",
    "but __While loops__ are monstly used when we don't know exaclty when we would stop our loop"
   ]
  },
  {
   "cell_type": "code",
   "execution_count": null,
   "metadata": {
    "collapsed": false
   },
   "outputs": [],
   "source": [
    "cars = 1\n",
    "while cars < 14: \n",
    "    cars = cars + 1 \n",
    "    print(\"This is the amount of cars we have so far:\", cars)"
   ]
  },
  {
   "cell_type": "markdown",
   "metadata": {},
   "source": [
    "__Your Turn__: Complete the while loop below  \n",
    "Rewrite that code using a for loop instead of a while loop"
   ]
  },
  {
   "cell_type": "code",
   "execution_count": null,
   "metadata": {
    "collapsed": true
   },
   "outputs": [],
   "source": [
    "cars = 30\n",
    "while cars \n",
    "    cars = cars - 1 \n",
    "    print(\"This is the amount of cars we have so far:\", cars)    "
   ]
  },
  {
   "cell_type": "markdown",
   "metadata": {},
   "source": [
    "## 3. Booleans"
   ]
  },
  {
   "cell_type": "markdown",
   "metadata": {},
   "source": [
    "They are used for:    \n",
    "1. Assigning a variable as True or False\n",
    "2. Testing if something is True or False"
   ]
  },
  {
   "cell_type": "code",
   "execution_count": null,
   "metadata": {
    "collapsed": true
   },
   "outputs": [],
   "source": [
    "# Have you had a birthday this year? True or False\n",
    "birthday_this_year = ?\n",
    "\n",
    "# In which year you were born?\n",
    "birthyear = ?\n",
    "current_year = ?\n",
    "\n",
    "# Age calculation:\n",
    "age = current_year - birthyear\n",
    "if birthday_this_year == False:\n",
    "    age -= 1\n",
    "\n",
    "print(\"You are {} years old!\".format(age))"
   ]
  },
  {
   "cell_type": "markdown",
   "metadata": {},
   "source": [
    "Note that in the code above we used booleans in both ways.\n",
    "1. We assigned True or False to the variable `birthday_this_year`.\n",
    "2. We tested __if__ `birthday_this_year == Fase` was __True__."
   ]
  },
  {
   "cell_type": "markdown",
   "metadata": {},
   "source": [
    "__Your Turn__: Create an __if__-__else__ statement that uses True or False (anything you want).  \n",
    "Write a command for the block below it."
   ]
  },
  {
   "cell_type": "code",
   "execution_count": null,
   "metadata": {
    "collapsed": true
   },
   "outputs": [],
   "source": [
    "# Write your code here!"
   ]
  }
 ],
 "metadata": {
  "kernelspec": {
   "display_name": "Python 3",
   "language": "python",
   "name": "python3"
  },
  "language_info": {
   "codemirror_mode": {
    "name": "ipython",
    "version": 3
   },
   "file_extension": ".py",
   "mimetype": "text/x-python",
   "name": "python",
   "nbconvert_exporter": "python",
   "pygments_lexer": "ipython3",
   "version": "3.6.0"
  }
 },
 "nbformat": 4,
 "nbformat_minor": 2
}
