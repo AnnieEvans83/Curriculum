{
 "cells": [
  {
   "cell_type": "markdown",
   "metadata": {},
   "source": [
    "## 1. Scripts and Terminals"
   ]
  },
  {
   "cell_type": "markdown",
   "metadata": {},
   "source": [
    "Scripts are files we can save our code in to access later, so we don't need to write it down again..."
   ]
  },
  {
   "cell_type": "markdown",
   "metadata": {},
   "source": [
    "To create a script: \n",
    "- __Click__ in the other jupyter tab __Home__ then click __New__ and select __Text File__."
   ]
  },
  {
   "cell_type": "markdown",
   "metadata": {},
   "source": [
    "__Your Turn__:\n",
    "1. Rename your new script file so that it ends in `.py`.\n",
    "1. Inside your script, declare a string variable. Initialize it with a long (and awesome) sentence.\n",
    "1. Print your string variable.\n",
    "1. Save the file using __File__ then __Save__."
   ]
  },
  {
   "cell_type": "markdown",
   "metadata": {},
   "source": [
    "Now that we have our script with a cool sentence inside it, let's run that code.  \n",
    "To do so we:\n",
    "* __Click__ in the other jupyter tab __Home__ then click __New__ and select __Terminal__."
   ]
  },
  {
   "cell_type": "markdown",
   "metadata": {},
   "source": [
    "To run your code inside the __Terminal__, type the following command and press __Enter__ on your keyboard:    \n",
    "```\n",
    "python <your file name>\n",
    "```"
   ]
  },
  {
   "cell_type": "markdown",
   "metadata": {},
   "source": [
    "For example:\n",
    "\n",
    "```\n",
    "python script1.py\n",
    "```"
   ]
  },
  {
   "cell_type": "markdown",
   "metadata": {
    "collapsed": true
   },
   "source": [
    "## 2. Maps \n",
    "\n",
    "By the way, what we call \"maps\", Python calls \"dictionaries\"."
   ]
  },
  {
   "cell_type": "markdown",
   "metadata": {},
   "source": [
    "A map is a collection of pairs. Each pair is composed of a \"key\" and a \"value\"."
   ]
  },
  {
   "cell_type": "markdown",
   "metadata": {},
   "source": [
    "For example the keys ```[0, 1, 2]```  can be maped to the values ```['Honda Civic', 'Ferrari', 'Mustang']```  \n",
    "as follows:"
   ]
  },
  {
   "cell_type": "code",
   "execution_count": null,
   "metadata": {
    "collapsed": true
   },
   "outputs": [],
   "source": [
    "my_map = {0: 'Honda Civic', 1: 'Ferrari', 2: 'Mustang'}"
   ]
  },
  {
   "cell_type": "markdown",
   "metadata": {},
   "source": [
    "So now we can see, for example, what value is maped to key 1 in a similar way as if we had a list:"
   ]
  },
  {
   "cell_type": "code",
   "execution_count": null,
   "metadata": {
    "collapsed": true
   },
   "outputs": [],
   "source": [
    "my_list = ['Honda Civic', 'Ferrari', 'Mustang']"
   ]
  },
  {
   "cell_type": "markdown",
   "metadata": {},
   "source": [
    "__your Turn__: Print element `1` in `my_list`.  \n",
    "Print element `1` in `my_map`."
   ]
  },
  {
   "cell_type": "code",
   "execution_count": null,
   "metadata": {
    "collapsed": true
   },
   "outputs": [],
   "source": [
    "# YOUR CODE HERE!\n"
   ]
  },
  {
   "cell_type": "markdown",
   "metadata": {},
   "source": [
    "Maps/dictionaries can have non-numeric keys, which makes them different than lists."
   ]
  },
  {
   "cell_type": "code",
   "execution_count": null,
   "metadata": {
    "collapsed": true
   },
   "outputs": [],
   "source": [
    "car_rental = {\n",
    "    \"Honda Civic\": \"Nice choice, enjoy your Honda Civic\",\n",
    "    \"Ferrari\": \"Great!! It will cost only all your money...\",\n",
    "    \"Mustang\": \"Oh Yeah!! You will have a fun time!!\",\n",
    "    \"Other\": \"Sorry we don't have that. Will just give you something that moves\"    \n",
    "}"
   ]
  },
  {
   "cell_type": "markdown",
   "metadata": {},
   "source": [
    "Now we can see the values of each key in the same way as before:"
   ]
  },
  {
   "cell_type": "code",
   "execution_count": null,
   "metadata": {
    "collapsed": true
   },
   "outputs": [],
   "source": [
    "car_rental[\"Honda Civic\"]"
   ]
  },
  {
   "cell_type": "markdown",
   "metadata": {},
   "source": [
    "__Your Turn__: Inside a script, print the value of the key \"Ferrari\".  \n",
    "Next, add another key and value to the map above.  \n",
    "__Note__: Don't forget you need to run your script in the terminal."
   ]
  },
  {
   "cell_type": "markdown",
   "metadata": {},
   "source": [
    "__Exercise__:"
   ]
  },
  {
   "cell_type": "markdown",
   "metadata": {},
   "source": [
    "Modify the `get_car()` function below to use the `car_rental` dictionary from the above example _instead_ of the `if-elif-else` construction below."
   ]
  },
  {
   "cell_type": "code",
   "execution_count": null,
   "metadata": {
    "collapsed": true
   },
   "outputs": [],
   "source": [
    "def get_car():\n",
    "    car = input(\"What car would you like to rent? \")\n",
    "\n",
    "    if car == \"Honda Civic\":\n",
    "        print(\"Nice choice, enjoy your Honda Civic\")\n",
    "\n",
    "    elif car == \"Ferrari\":\n",
    "        print(\"Great!! It will cost only all your money...\")\n",
    "\n",
    "    elif car == \"Mustang\":\n",
    "        print(\"Oh Yeah!! You will have a fun time!!\")\n",
    "\n",
    "    else:\n",
    "        print(\"Sorry we don't have that. Will just give you something that moves\")\n",
    "        \n",
    "# Call the function:\n",
    "get_car()"
   ]
  }
 ],
 "metadata": {
  "anaconda-cloud": {},
  "kernelspec": {
   "display_name": "Python 3",
   "language": "python",
   "name": "python3"
  },
  "language_info": {
   "codemirror_mode": {
    "name": "ipython",
    "version": 3
   },
   "file_extension": ".py",
   "mimetype": "text/x-python",
   "name": "python",
   "nbconvert_exporter": "python",
   "pygments_lexer": "ipython3",
   "version": "3.4.2"
  }
 },
 "nbformat": 4,
 "nbformat_minor": 1
}
