{
 "cells": [
  {
   "cell_type": "markdown",
   "metadata": {},
   "source": [
    "## 1. Scripts and Terminals"
   ]
  },
  {
   "cell_type": "markdown",
   "metadata": {},
   "source": [
    "Scripts are files we can save our code in to access later, so we don't need to write it down again..."
   ]
  },
  {
   "cell_type": "markdown",
   "metadata": {},
   "source": [
    "To create a script: \n",
    "- __Click__ in the other jupyter tab __Home__ then click __New__ and select __Text File__."
   ]
  },
  {
   "cell_type": "markdown",
   "metadata": {},
   "source": [
    "__Your Turn__:\n",
    "1. Rename your new script file so that it ends in `.py`.\n",
    "1. Inside your script, declare a string variable. Initialize it with a long (and awesome) sentence.\n",
    "1. Print your string variable.\n",
    "1. Save the file using __File__ then __Save__."
   ]
  },
  {
   "cell_type": "markdown",
   "metadata": {},
   "source": [
    "Now that we have our script with a cool sentence inside it, let's run that code.  \n",
    "To do so we:\n",
    "* __Click__ in the other jupyter tab __Home__ then click __New__ and select __Terminal__."
   ]
  },
  {
   "cell_type": "markdown",
   "metadata": {},
   "source": [
    "To run your code inside the __Terminal__, type the following command and press __Enter__ on your keyboard:    \n",
    "```\n",
    "python <your file name>\n",
    "```"
   ]
  },
  {
   "cell_type": "markdown",
   "metadata": {},
   "source": [
    "For example:\n",
    "\n",
    "```\n",
    "python script1.py\n",
    "```"
   ]
  }
 ],
 "metadata": {
  "anaconda-cloud": {},
  "kernelspec": {
   "display_name": "Python 3",
   "language": "python",
   "name": "python3"
  },
  "language_info": {
   "codemirror_mode": {
    "name": "ipython",
    "version": 3
   },
   "file_extension": ".py",
   "mimetype": "text/x-python",
   "name": "python",
   "nbconvert_exporter": "python",
   "pygments_lexer": "ipython3",
   "version": "3.6.0"
  }
 },
 "nbformat": 4,
 "nbformat_minor": 1
}
