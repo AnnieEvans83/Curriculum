{
 "cells": [
  {
   "cell_type": "markdown",
   "metadata": {},
   "source": [
    "## 1. Functions  "
   ]
  },
  {
   "cell_type": "markdown",
   "metadata": {},
   "source": [
    "Do you remember functions in mathematics? Programing languages have functions too!!"
   ]
  },
  {
   "cell_type": "code",
   "execution_count": null,
   "metadata": {
    "collapsed": false
   },
   "outputs": [],
   "source": [
    "# What value are we going to output here?\n",
    "x = 3\n",
    "y = 2*x\n",
    "print(y)"
   ]
  },
  {
   "cell_type": "markdown",
   "metadata": {},
   "source": [
    "Can we create a Python function with that same \"rule\" $y = 2*x$ ? "
   ]
  },
  {
   "cell_type": "code",
   "execution_count": null,
   "metadata": {
    "collapsed": true
   },
   "outputs": [],
   "source": [
    "def my_function(x):\n",
    "    return 2*x       # <-- this is the same as y = 2*x"
   ]
  },
  {
   "cell_type": "code",
   "execution_count": null,
   "metadata": {
    "collapsed": true
   },
   "outputs": [],
   "source": [
    "y = my_function(x)"
   ]
  },
  {
   "cell_type": "markdown",
   "metadata": {},
   "source": [
    "__Your Turn__: Change the code inside the function to implement a different equation.    \n",
    "What should the result be now? How to tested your function thoroughly?."
   ]
  },
  {
   "cell_type": "markdown",
   "metadata": {},
   "source": [
    "__Exercise__: Create in a __new cell__ a __function__ for our car rental options below.   \n",
    "Call and test your function."
   ]
  },
  {
   "cell_type": "code",
   "execution_count": null,
   "metadata": {
    "collapsed": true
   },
   "outputs": [],
   "source": [
    "# What car would you like to rent today?\n",
    "\n",
    "car = input(\"What car would you like to rent? \")\n",
    "\n",
    "if car == \"Honda Civic\":\n",
    "    print(\"Nice choice, enjoy your Honda Civic.\")\n",
    "    \n",
    "elif car == \"Ferrari\":\n",
    "    print(\"Great!! It will cost only all your money...\")\n",
    "    \n",
    "elif car == \"Mustang\":\n",
    "    print(\"Oh Yeah!! You will have a fun time!!\")\n",
    "    \n",
    "else:\n",
    "    print(\"Sorry we don't have that. We'll just give you something that moves.\")"
   ]
  },
  {
   "cell_type": "code",
   "execution_count": null,
   "metadata": {
    "collapsed": true
   },
   "outputs": [],
   "source": [
    "def car_rental():\n",
    "    #your code here\n"
   ]
  },
  {
   "cell_type": "code",
   "execution_count": null,
   "metadata": {
    "collapsed": true
   },
   "outputs": [],
   "source": [
    "# Calling the function \n",
    "car_rental()"
   ]
  },
  {
   "cell_type": "markdown",
   "metadata": {},
   "source": [
    "## 2. Maps"
   ]
  },
  {
   "cell_type": "markdown",
   "metadata": {},
   "source": [
    "By the way, what we call \"maps\", Python calls \"dictionaries\"."
   ]
  },
  {
   "cell_type": "markdown",
   "metadata": {},
   "source": [
    "A map is a collection of pairs. Each pair is composed of a \"key\" and a \"value\"."
   ]
  },
  {
   "cell_type": "markdown",
   "metadata": {},
   "source": [
    "For example the keys ```[0, 1, 2]```  can be maped to the values ```['Honda Civic', 'Ferrari', 'Mustang']```  \n",
    "as follows:"
   ]
  },
  {
   "cell_type": "code",
   "execution_count": null,
   "metadata": {
    "collapsed": true
   },
   "outputs": [],
   "source": [
    "my_map = {0: 'Honda Civic', 1: 'Ferrari', 2: 'Mustang'}"
   ]
  },
  {
   "cell_type": "markdown",
   "metadata": {},
   "source": [
    "So now we can see, for example, what value is maped to key 1 in a similar way as if we had a list:"
   ]
  },
  {
   "cell_type": "code",
   "execution_count": null,
   "metadata": {
    "collapsed": true
   },
   "outputs": [],
   "source": [
    "my_list = ['Honda Civic', 'Ferrari', 'Mustang']"
   ]
  },
  {
   "cell_type": "markdown",
   "metadata": {},
   "source": [
    "__your Turn__: Print element `1` in `my_list`.    \n",
    "Print element `1` in `my_map`."
   ]
  },
  {
   "cell_type": "code",
   "execution_count": null,
   "metadata": {
    "collapsed": true
   },
   "outputs": [],
   "source": [
    "# YOUR CODE HERE!\n"
   ]
  },
  {
   "cell_type": "markdown",
   "metadata": {},
   "source": [
    "Maps/dictionaries can have non-numeric keys, which makes them different than lists."
   ]
  },
  {
   "cell_type": "code",
   "execution_count": null,
   "metadata": {
    "collapsed": true
   },
   "outputs": [],
   "source": [
    "rentals = {\n",
    "    \"Honda Civic\": \"Nice choice, enjoy your Honda Civic\",\n",
    "    \"Ferrari\": \"Great!! It will cost only all your money...\",\n",
    "    \"Mustang\": \"Oh Yeah!! You will have a fun time!!\",\n",
    "    \"Other\": \"Sorry we don't have that. Will just give you something that moves\"    \n",
    "}"
   ]
  },
  {
   "cell_type": "markdown",
   "metadata": {},
   "source": [
    "Now we can see the values of each key in the same way as before:"
   ]
  },
  {
   "cell_type": "code",
   "execution_count": null,
   "metadata": {
    "collapsed": false
   },
   "outputs": [],
   "source": [
    "rentals[\"Honda Civic\"]"
   ]
  },
  {
   "cell_type": "markdown",
   "metadata": {},
   "source": [
    "__Your Turn__: Print the value of the key \"Ferrari\".    \n",
    "Next, add another key and value to the map above.    \n",
    "__Note__: Don't forget you need to run your script in the terminal.  "
   ]
  },
  {
   "cell_type": "markdown",
   "metadata": {},
   "source": [
    "__Exercise__:  \n",
    "Modify the `car_rental()` function you created above to use the `rentals` dictionary."
   ]
  },
  {
   "cell_type": "code",
   "execution_count": null,
   "metadata": {
    "collapsed": true
   },
   "outputs": [],
   "source": []
  }
 ],
 "metadata": {
  "kernelspec": {
   "display_name": "Python 3",
   "language": "python",
   "name": "python3"
  },
  "language_info": {
   "codemirror_mode": {
    "name": "ipython",
    "version": 3
   },
   "file_extension": ".py",
   "mimetype": "text/x-python",
   "name": "python",
   "nbconvert_exporter": "python",
   "pygments_lexer": "ipython3",
   "version": "3.6.0"
  }
 },
 "nbformat": 4,
 "nbformat_minor": 2
}
